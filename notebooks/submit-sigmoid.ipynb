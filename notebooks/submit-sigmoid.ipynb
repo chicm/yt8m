{
 "cells": [
  {
   "cell_type": "code",
   "execution_count": 1,
   "metadata": {},
   "outputs": [],
   "source": [
    "import numpy as np\n",
    "import pandas as pd\n",
    "from tqdm import tqdm"
   ]
  },
  {
   "cell_type": "code",
   "execution_count": 2,
   "metadata": {},
   "outputs": [
    {
     "name": "stdout",
     "output_type": "stream",
     "text": [
      "data_converter.py  probs.npy\t\t\trnn3_finetune_val_0919_5319.npy\r\n",
      "loader.py\t   probs_rnn3_tr_0919_1943.npy\tsettings.py\r\n",
      "models.py\t   __pycache__\t\t\ttrain.py\r\n",
      "notebooks\t   radam.py\t\t\tutils.py\r\n",
      "probs_100.npy\t   rnn3_0918.npy\t\twork_dirs\r\n"
     ]
    }
   ],
   "source": [
    "!ls /data2/yt8m/code/yt8m"
   ]
  },
  {
   "cell_type": "code",
   "execution_count": 3,
   "metadata": {},
   "outputs": [],
   "source": [
    "p = np.load('/data2/yt8m/code/yt8m/sigmoid/prob_3035.npy', allow_pickle=True)"
   ]
  },
  {
   "cell_type": "code",
   "execution_count": null,
   "metadata": {},
   "outputs": [],
   "source": [
    "p1 = np.load('/data2/yt8m/code/yt8m/rnn3_finetune_val_0919_5319.npy', allow_pickle=True)\n",
    "p1[:2]"
   ]
  },
  {
   "cell_type": "code",
   "execution_count": 5,
   "metadata": {},
   "outputs": [
    {
     "data": {
      "text/plain": [
       "array([[6.9659978e-01, 1.3740591e-04, 1.1694086e-06, ..., 8.6689353e-05,\n",
       "        6.0337617e-05, 2.5136296e-07],\n",
       "       [8.1797791e-01, 4.7672194e-07, 1.8004628e-05, ..., 1.0984526e-08,\n",
       "        5.2207708e-04, 1.4610782e-07]], dtype=float32)"
      ]
     },
     "execution_count": 5,
     "metadata": {},
     "output_type": "execute_result"
    }
   ],
   "source": [
    "p2 = np.load('/data2/yt8m/code/yt8m/probs.npy', allow_pickle=True)\n",
    "p2[:2]"
   ]
  },
  {
   "cell_type": "code",
   "execution_count": 6,
   "metadata": {},
   "outputs": [
    {
     "data": {
      "text/plain": [
       "array([[8.8766348e-01, 7.4459531e-05, 1.4046773e-07, ..., 1.0157839e-05,\n",
       "        3.3870427e-04, 8.4951431e-08],\n",
       "       [9.9903846e-01, 4.3215941e-11, 9.2645269e-09, ..., 5.1636928e-12,\n",
       "        5.8856360e-05, 4.3446281e-11]], dtype=float32)"
      ]
     },
     "execution_count": 6,
     "metadata": {},
     "output_type": "execute_result"
    }
   ],
   "source": [
    "p3 = np.load('/data2/yt8m/code/yt8m/rnn3_0918.npy', allow_pickle=True)\n",
    "p3[:2]"
   ]
  },
  {
   "cell_type": "code",
   "execution_count": 7,
   "metadata": {},
   "outputs": [],
   "source": [
    "p = np.average([p1, p2, p3], 0, weights=[0.7, 0.15, 0.15])"
   ]
  },
  {
   "cell_type": "code",
   "execution_count": 8,
   "metadata": {},
   "outputs": [
    {
     "data": {
      "text/plain": [
       "numpy.ndarray"
      ]
     },
     "execution_count": 8,
     "metadata": {},
     "output_type": "execute_result"
    }
   ],
   "source": [
    "type(p)"
   ]
  },
  {
   "cell_type": "code",
   "execution_count": 4,
   "metadata": {},
   "outputs": [
    {
     "data": {
      "text/plain": [
       "array([[9.3798575e-05, 5.0189145e-05, 8.0518454e-05, ..., 1.9511305e-04,\n",
       "        2.4855012e-04, 3.9240513e-05],\n",
       "       [2.0981761e-06, 4.0159794e-04, 2.7664746e-06, ..., 3.6077709e-06,\n",
       "        8.2285404e-03, 3.8336297e-05]], dtype=float32)"
      ]
     },
     "execution_count": 4,
     "metadata": {},
     "output_type": "execute_result"
    }
   ],
   "source": [
    "p[:2]"
   ]
  },
  {
   "cell_type": "code",
   "execution_count": 5,
   "metadata": {},
   "outputs": [
    {
     "data": {
      "text/html": [
       "<div>\n",
       "<style scoped>\n",
       "    .dataframe tbody tr th:only-of-type {\n",
       "        vertical-align: middle;\n",
       "    }\n",
       "\n",
       "    .dataframe tbody tr th {\n",
       "        vertical-align: top;\n",
       "    }\n",
       "\n",
       "    .dataframe thead th {\n",
       "        text-align: right;\n",
       "    }\n",
       "</style>\n",
       "<table border=\"1\" class=\"dataframe\">\n",
       "  <thead>\n",
       "    <tr style=\"text-align: right;\">\n",
       "      <th></th>\n",
       "      <th>vid</th>\n",
       "      <th>start_time</th>\n",
       "      <th>seg_id</th>\n",
       "    </tr>\n",
       "  </thead>\n",
       "  <tbody>\n",
       "    <tr>\n",
       "      <th>0</th>\n",
       "      <td>MeVj</td>\n",
       "      <td>0</td>\n",
       "      <td>MeVj:0</td>\n",
       "    </tr>\n",
       "    <tr>\n",
       "      <th>1</th>\n",
       "      <td>MeVj</td>\n",
       "      <td>5</td>\n",
       "      <td>MeVj:5</td>\n",
       "    </tr>\n",
       "    <tr>\n",
       "      <th>2</th>\n",
       "      <td>MeVj</td>\n",
       "      <td>10</td>\n",
       "      <td>MeVj:10</td>\n",
       "    </tr>\n",
       "    <tr>\n",
       "      <th>3</th>\n",
       "      <td>MeVj</td>\n",
       "      <td>15</td>\n",
       "      <td>MeVj:15</td>\n",
       "    </tr>\n",
       "    <tr>\n",
       "      <th>4</th>\n",
       "      <td>MeVj</td>\n",
       "      <td>20</td>\n",
       "      <td>MeVj:20</td>\n",
       "    </tr>\n",
       "  </tbody>\n",
       "</table>\n",
       "</div>"
      ],
      "text/plain": [
       "    vid  start_time   seg_id\n",
       "0  MeVj           0   MeVj:0\n",
       "1  MeVj           5   MeVj:5\n",
       "2  MeVj          10  MeVj:10\n",
       "3  MeVj          15  MeVj:15\n",
       "4  MeVj          20  MeVj:20"
      ]
     },
     "execution_count": 5,
     "metadata": {},
     "output_type": "execute_result"
    }
   ],
   "source": [
    "df_test = pd.read_csv('/data2/yt8m/3/frame/test_ids.csv')\n",
    "df_test.head()"
   ]
  },
  {
   "cell_type": "code",
   "execution_count": 6,
   "metadata": {},
   "outputs": [],
   "source": [
    "def get_classes():\n",
    "    df = pd.read_csv('/data2/yt8m/3/frame/classes_1000.csv')\n",
    "    c = df['class'].values.tolist()\n",
    "    stoi = { c[i]: i for i in range(len(c)) }\n",
    "    return c, stoi\n",
    "\n",
    "classes, _ = get_classes()"
   ]
  },
  {
   "cell_type": "code",
   "execution_count": 7,
   "metadata": {},
   "outputs": [
    {
     "data": {
      "text/plain": [
       "[3, 7]"
      ]
     },
     "execution_count": 7,
     "metadata": {},
     "output_type": "execute_result"
    }
   ],
   "source": [
    "classes[:2]"
   ]
  },
  {
   "cell_type": "code",
   "execution_count": 13,
   "metadata": {},
   "outputs": [
    {
     "name": "stdout",
     "output_type": "stream",
     "text": [
      "(2038114, 3) (2038114, 1001)\n"
     ]
    }
   ],
   "source": [
    "print(df_test.shape, p.shape)"
   ]
  },
  {
   "cell_type": "code",
   "execution_count": 8,
   "metadata": {},
   "outputs": [
    {
     "name": "stderr",
     "output_type": "stream",
     "text": [
      "100%|██████████| 1000/1000 [05:32<00:00,  3.06it/s]\n"
     ]
    }
   ],
   "source": [
    "res = []\n",
    "for i in tqdm(range(1000)):\n",
    "    idx = np.argsort(p[:,i])[::-1][:100000]\n",
    "    best_segs = df_test.seg_id.values[idx]\n",
    "    pred_str = ' '.join(best_segs)\n",
    "    res.append({\n",
    "        'Class': classes[i],\n",
    "        'Segments': pred_str\n",
    "    })\n"
   ]
  },
  {
   "cell_type": "code",
   "execution_count": 9,
   "metadata": {},
   "outputs": [
    {
     "data": {
      "text/html": [
       "<div>\n",
       "<style scoped>\n",
       "    .dataframe tbody tr th:only-of-type {\n",
       "        vertical-align: middle;\n",
       "    }\n",
       "\n",
       "    .dataframe tbody tr th {\n",
       "        vertical-align: top;\n",
       "    }\n",
       "\n",
       "    .dataframe thead th {\n",
       "        text-align: right;\n",
       "    }\n",
       "</style>\n",
       "<table border=\"1\" class=\"dataframe\">\n",
       "  <thead>\n",
       "    <tr style=\"text-align: right;\">\n",
       "      <th></th>\n",
       "      <th>Class</th>\n",
       "      <th>Segments</th>\n",
       "    </tr>\n",
       "  </thead>\n",
       "  <tbody>\n",
       "    <tr>\n",
       "      <th>0</th>\n",
       "      <td>3</td>\n",
       "      <td>Rbop:145 Rbop:95 Rbop:60 Rbop:150 Rbop:40 1shy...</td>\n",
       "    </tr>\n",
       "    <tr>\n",
       "      <th>1</th>\n",
       "      <td>7</td>\n",
       "      <td>HmvV:75 WEoW:35 dq0N:160 WEoW:80 WEoW:105 JNH5...</td>\n",
       "    </tr>\n",
       "    <tr>\n",
       "      <th>2</th>\n",
       "      <td>8</td>\n",
       "      <td>I6Z7:215 sYqm:135 sYqm:60 sYqm:125 9UGW:30 9UG...</td>\n",
       "    </tr>\n",
       "    <tr>\n",
       "      <th>3</th>\n",
       "      <td>11</td>\n",
       "      <td>25zW:0 RBoT:120 HQI1:105 RBoT:135 oVyD:200 rRo...</td>\n",
       "    </tr>\n",
       "    <tr>\n",
       "      <th>4</th>\n",
       "      <td>12</td>\n",
       "      <td>FXxf:70 tn1C:135 FXxf:95 TRsL:140 0leM:190 FXx...</td>\n",
       "    </tr>\n",
       "  </tbody>\n",
       "</table>\n",
       "</div>"
      ],
      "text/plain": [
       "   Class                                           Segments\n",
       "0      3  Rbop:145 Rbop:95 Rbop:60 Rbop:150 Rbop:40 1shy...\n",
       "1      7  HmvV:75 WEoW:35 dq0N:160 WEoW:80 WEoW:105 JNH5...\n",
       "2      8  I6Z7:215 sYqm:135 sYqm:60 sYqm:125 9UGW:30 9UG...\n",
       "3     11  25zW:0 RBoT:120 HQI1:105 RBoT:135 oVyD:200 rRo...\n",
       "4     12  FXxf:70 tn1C:135 FXxf:95 TRsL:140 0leM:190 FXx..."
      ]
     },
     "execution_count": 9,
     "metadata": {},
     "output_type": "execute_result"
    }
   ],
   "source": [
    "df_sub = pd.DataFrame(res)\n",
    "df_sub.head()"
   ]
  },
  {
   "cell_type": "code",
   "execution_count": 10,
   "metadata": {},
   "outputs": [],
   "source": [
    "df_sub.to_csv('sigmoid_1.csv', index=False)"
   ]
  },
  {
   "cell_type": "code",
   "execution_count": 11,
   "metadata": {},
   "outputs": [
    {
     "name": "stdout",
     "output_type": "stream",
     "text": [
      "100%|████████████████████████████████████████| 809M/809M [03:09<00:00, 4.48MB/s]\n",
      "Successfully submitted to The 3rd YouTube-8M Video Understanding Challenge"
     ]
    }
   ],
   "source": [
    "!kaggle competitions submit -c youtube8m-2019 -f sigmoid_1.csv -m 'submit'"
   ]
  },
  {
   "cell_type": "code",
   "execution_count": 12,
   "metadata": {},
   "outputs": [
    {
     "name": "stdout",
     "output_type": "stream",
     "text": [
      "total 5.7G\r\n",
      "-rw-r--r-- 1 FAREAST.chec FAREAST.domain users 6.0M Sep 19 20:13 create_meta.ipynb\r\n",
      "-rw-r--r-- 1 FAREAST.chec FAREAST.domain users  41K Sep 18 15:56 eda.ipynb\r\n",
      "-rw-r--r-- 1 FAREAST.chec FAREAST.domain users 812M Sep 19 06:41 ens_0919_1.csv\r\n",
      "-rw-r--r-- 1 FAREAST.chec FAREAST.domain users 809M Sep 19 20:12 sigmoid_1.csv\r\n",
      "-rw-r--r-- 1 FAREAST.chec FAREAST.domain users 810M Sep 17 19:27 sub1_rnn3_local057_100000.csv\r\n",
      "-rw-r--r-- 1 FAREAST.chec FAREAST.domain users  82M Sep 17 19:16 sub1_rnn3_local057_10000.csv\r\n",
      "-rw-r--r-- 1 FAREAST.chec FAREAST.domain users  17M Sep 17 19:06 sub1_rnn3_local057_2000.csv\r\n",
      "-rw-r--r-- 1 FAREAST.chec FAREAST.domain users 8.2M Sep 17 03:34 sub1_rnn3_local0.57.csv\r\n",
      "-rw-r--r-- 1 FAREAST.chec FAREAST.domain users 810M Sep 18 04:53 sub_ens1.csv\r\n",
      "-rw-r--r-- 1 FAREAST.chec FAREAST.domain users  13K Sep 19 06:46 submit.ipynb\r\n",
      "-rw-r--r-- 1 FAREAST.chec FAREAST.domain users  12K Sep 19 20:13 submit-sigmoid.ipynb\r\n",
      "-rw-r--r-- 1 FAREAST.chec FAREAST.domain users 812M Sep 18 03:29 sub_rnn3_att_local060_100000.csv\r\n",
      "-rw-r--r-- 1 FAREAST.chec FAREAST.domain users 814M Sep 19 03:27 sub_rnn3_tr_0919_1943.csv\r\n",
      "-rw-r--r-- 1 FAREAST.chec FAREAST.domain users 812M Sep 19 06:12 sub_rnn3_tr_finetune_val_0919_5319.csv\r\n"
     ]
    }
   ],
   "source": [
    "!ls -lh"
   ]
  },
  {
   "cell_type": "code",
   "execution_count": 19,
   "metadata": {},
   "outputs": [],
   "source": [
    "del res"
   ]
  },
  {
   "cell_type": "code",
   "execution_count": 20,
   "metadata": {},
   "outputs": [],
   "source": [
    "del p"
   ]
  },
  {
   "cell_type": "code",
   "execution_count": null,
   "metadata": {},
   "outputs": [],
   "source": []
  }
 ],
 "metadata": {
  "kernelspec": {
   "display_name": "Python 3",
   "language": "python",
   "name": "python3"
  },
  "language_info": {
   "codemirror_mode": {
    "name": "ipython",
    "version": 3
   },
   "file_extension": ".py",
   "mimetype": "text/x-python",
   "name": "python",
   "nbconvert_exporter": "python",
   "pygments_lexer": "ipython3",
   "version": "3.7.3"
  }
 },
 "nbformat": 4,
 "nbformat_minor": 2
}
