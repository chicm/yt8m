{
 "cells": [
  {
   "cell_type": "code",
   "execution_count": 36,
   "metadata": {},
   "outputs": [],
   "source": [
    "import numpy as np\n",
    "import pandas as pd\n",
    "from tqdm import tqdm"
   ]
  },
  {
   "cell_type": "code",
   "execution_count": 37,
   "metadata": {},
   "outputs": [
    {
     "name": "stdout",
     "output_type": "stream",
     "text": [
      "notebooks  sigmoid  softmax\r\n"
     ]
    }
   ],
   "source": [
    "!ls /data2/yt8m/code/yt8m"
   ]
  },
  {
   "cell_type": "code",
   "execution_count": 3,
   "metadata": {},
   "outputs": [],
   "source": [
    "# p = np.load('/data2/yt8m/code/yt8m/probs_rnn3_tr_0919_1943.npy', allow_pickle=True) lb0.5xx"
   ]
  },
  {
   "cell_type": "code",
   "execution_count": 52,
   "metadata": {},
   "outputs": [],
   "source": [
    "p1 = np.load('/data2/yt8m/code/yt8m/softmax/rnn3_ft_1005_5492_lb746.npy', allow_pickle=True)"
   ]
  },
  {
   "cell_type": "code",
   "execution_count": 53,
   "metadata": {},
   "outputs": [
    {
     "data": {
      "text/plain": [
       "array([[9.8455113e-01, 2.0337227e-07, 3.5731500e-07, ..., 6.0892003e-06,\n",
       "        1.9596441e-06, 4.1937537e-07],\n",
       "       [9.9528128e-01, 5.2664177e-06, 1.0759398e-06, ..., 1.2880225e-06,\n",
       "        1.9060346e-05, 3.0180809e-06]], dtype=float32)"
      ]
     },
     "execution_count": 53,
     "metadata": {},
     "output_type": "execute_result"
    }
   ],
   "source": [
    "p2 = np.load('/data2/yt8m/code/yt8m/softmax/rnn4_ft_1006_5625.npy', allow_pickle=True)\n",
    "p1[:2]"
   ]
  },
  {
   "cell_type": "code",
   "execution_count": 54,
   "metadata": {},
   "outputs": [],
   "source": [
    "p = np.average([p1, p2], 0, weights=[0.5, 0.5])"
   ]
  },
  {
   "cell_type": "code",
   "execution_count": null,
   "metadata": {},
   "outputs": [],
   "source": []
  },
  {
   "cell_type": "code",
   "execution_count": 65,
   "metadata": {},
   "outputs": [],
   "source": [
    "#p = np.load('/data2/yt8m/code/yt8m/softmax/rnn6_mt_1004_5838.npy', allow_pickle=True)\n",
    "#p = np.load('/data2/yt8m/code/yt8m/softmax/rnn3_mt_1004_5910.npy', allow_pickle=True)\n",
    "#p = np.load('/data2/yt8m/code/yt8m/softmax/rnn3_ft_1005_5492.npy', allow_pickle=True)\n",
    "#p = np.load('/data2/yt8m/code/yt8m/softmax/rnn4_ft_1006_5625.npy', allow_pickle=True)\n",
    "p = np.load('/data2/yt8m/code/yt8m/softmax/rnn6_ft_1006_5385.npy', allow_pickle=True)\n",
    "\n"
   ]
  },
  {
   "cell_type": "code",
   "execution_count": null,
   "metadata": {},
   "outputs": [],
   "source": []
  },
  {
   "cell_type": "code",
   "execution_count": 66,
   "metadata": {},
   "outputs": [
    {
     "data": {
      "text/plain": [
       "numpy.ndarray"
      ]
     },
     "execution_count": 66,
     "metadata": {},
     "output_type": "execute_result"
    }
   ],
   "source": [
    "type(p)"
   ]
  },
  {
   "cell_type": "code",
   "execution_count": 67,
   "metadata": {},
   "outputs": [
    {
     "data": {
      "text/plain": [
       "array([[6.4755529e-01, 1.3144125e-04, 1.2640365e-04, ..., 1.7654180e-05,\n",
       "        1.5098701e-04, 6.9966816e-05],\n",
       "       [9.9816930e-01, 7.7113407e-07, 8.1815989e-07, ..., 3.3371165e-08,\n",
       "        9.1216111e-07, 4.8337146e-08]], dtype=float32)"
      ]
     },
     "execution_count": 67,
     "metadata": {},
     "output_type": "execute_result"
    }
   ],
   "source": [
    "p[:2]"
   ]
  },
  {
   "cell_type": "code",
   "execution_count": 68,
   "metadata": {},
   "outputs": [
    {
     "data": {
      "text/html": [
       "<div>\n",
       "<style scoped>\n",
       "    .dataframe tbody tr th:only-of-type {\n",
       "        vertical-align: middle;\n",
       "    }\n",
       "\n",
       "    .dataframe tbody tr th {\n",
       "        vertical-align: top;\n",
       "    }\n",
       "\n",
       "    .dataframe thead th {\n",
       "        text-align: right;\n",
       "    }\n",
       "</style>\n",
       "<table border=\"1\" class=\"dataframe\">\n",
       "  <thead>\n",
       "    <tr style=\"text-align: right;\">\n",
       "      <th></th>\n",
       "      <th>vid</th>\n",
       "      <th>start_time</th>\n",
       "      <th>seg_id</th>\n",
       "    </tr>\n",
       "  </thead>\n",
       "  <tbody>\n",
       "    <tr>\n",
       "      <th>0</th>\n",
       "      <td>MeVj</td>\n",
       "      <td>0</td>\n",
       "      <td>MeVj:0</td>\n",
       "    </tr>\n",
       "    <tr>\n",
       "      <th>1</th>\n",
       "      <td>MeVj</td>\n",
       "      <td>5</td>\n",
       "      <td>MeVj:5</td>\n",
       "    </tr>\n",
       "    <tr>\n",
       "      <th>2</th>\n",
       "      <td>MeVj</td>\n",
       "      <td>10</td>\n",
       "      <td>MeVj:10</td>\n",
       "    </tr>\n",
       "    <tr>\n",
       "      <th>3</th>\n",
       "      <td>MeVj</td>\n",
       "      <td>15</td>\n",
       "      <td>MeVj:15</td>\n",
       "    </tr>\n",
       "    <tr>\n",
       "      <th>4</th>\n",
       "      <td>MeVj</td>\n",
       "      <td>20</td>\n",
       "      <td>MeVj:20</td>\n",
       "    </tr>\n",
       "  </tbody>\n",
       "</table>\n",
       "</div>"
      ],
      "text/plain": [
       "    vid  start_time   seg_id\n",
       "0  MeVj           0   MeVj:0\n",
       "1  MeVj           5   MeVj:5\n",
       "2  MeVj          10  MeVj:10\n",
       "3  MeVj          15  MeVj:15\n",
       "4  MeVj          20  MeVj:20"
      ]
     },
     "execution_count": 68,
     "metadata": {},
     "output_type": "execute_result"
    }
   ],
   "source": [
    "df_test = pd.read_csv('/data2/yt8m/3/frame/test_ids.csv')\n",
    "df_test.head()"
   ]
  },
  {
   "cell_type": "code",
   "execution_count": 69,
   "metadata": {},
   "outputs": [],
   "source": [
    "def get_classes():\n",
    "    df = pd.read_csv('/data2/yt8m/3/frame/classes_1001.csv')\n",
    "    c = df['class'].values.tolist()\n",
    "    stoi = { c[i]: i for i in range(len(c)) }\n",
    "    return c, stoi\n",
    "\n",
    "classes, _ = get_classes()"
   ]
  },
  {
   "cell_type": "code",
   "execution_count": 70,
   "metadata": {},
   "outputs": [
    {
     "data": {
      "text/plain": [
       "['none', '3']"
      ]
     },
     "execution_count": 70,
     "metadata": {},
     "output_type": "execute_result"
    }
   ],
   "source": [
    "classes[:2]"
   ]
  },
  {
   "cell_type": "code",
   "execution_count": 71,
   "metadata": {},
   "outputs": [
    {
     "name": "stdout",
     "output_type": "stream",
     "text": [
      "(2038114, 3) (2038114, 1001)\n"
     ]
    }
   ],
   "source": [
    "print(df_test.shape, p.shape)"
   ]
  },
  {
   "cell_type": "code",
   "execution_count": 72,
   "metadata": {},
   "outputs": [
    {
     "name": "stderr",
     "output_type": "stream",
     "text": [
      "100%|██████████| 1000/1000 [06:28<00:00,  2.56it/s]\n"
     ]
    }
   ],
   "source": [
    "res = []\n",
    "for i in tqdm(range(1, 1001)):\n",
    "    idx = np.argsort(p[:,i])[::-1][:150000]\n",
    "    best_segs = df_test.seg_id.values[idx]\n",
    "    pred_str = ' '.join(best_segs)\n",
    "    res.append({\n",
    "        'Class': classes[i],\n",
    "        'Segments': pred_str\n",
    "    })\n"
   ]
  },
  {
   "cell_type": "code",
   "execution_count": 73,
   "metadata": {},
   "outputs": [
    {
     "data": {
      "text/html": [
       "<div>\n",
       "<style scoped>\n",
       "    .dataframe tbody tr th:only-of-type {\n",
       "        vertical-align: middle;\n",
       "    }\n",
       "\n",
       "    .dataframe tbody tr th {\n",
       "        vertical-align: top;\n",
       "    }\n",
       "\n",
       "    .dataframe thead th {\n",
       "        text-align: right;\n",
       "    }\n",
       "</style>\n",
       "<table border=\"1\" class=\"dataframe\">\n",
       "  <thead>\n",
       "    <tr style=\"text-align: right;\">\n",
       "      <th></th>\n",
       "      <th>Class</th>\n",
       "      <th>Segments</th>\n",
       "    </tr>\n",
       "  </thead>\n",
       "  <tbody>\n",
       "    <tr>\n",
       "      <th>0</th>\n",
       "      <td>3</td>\n",
       "      <td>UCwo:120 lJpI:210 CbCN:130 4LI3:145 9Fmm:120 1...</td>\n",
       "    </tr>\n",
       "    <tr>\n",
       "      <th>1</th>\n",
       "      <td>7</td>\n",
       "      <td>mXSB:70 felC:120 mXSB:115 T1ax:125 mXSB:75 mXS...</td>\n",
       "    </tr>\n",
       "    <tr>\n",
       "      <th>2</th>\n",
       "      <td>8</td>\n",
       "      <td>sDmH:150 sDmH:180 wBXw:210 sDmH:185 SDNb:10 bL...</td>\n",
       "    </tr>\n",
       "    <tr>\n",
       "      <th>3</th>\n",
       "      <td>11</td>\n",
       "      <td>kMqw:85 rpDi:260 0jJn:220 aqe8:170 pnhe:145 0Y...</td>\n",
       "    </tr>\n",
       "    <tr>\n",
       "      <th>4</th>\n",
       "      <td>12</td>\n",
       "      <td>hOlg:210 FF5P:40 FXxf:95 FXxf:90 hOlg:290 hOlg...</td>\n",
       "    </tr>\n",
       "  </tbody>\n",
       "</table>\n",
       "</div>"
      ],
      "text/plain": [
       "  Class                                           Segments\n",
       "0     3  UCwo:120 lJpI:210 CbCN:130 4LI3:145 9Fmm:120 1...\n",
       "1     7  mXSB:70 felC:120 mXSB:115 T1ax:125 mXSB:75 mXS...\n",
       "2     8  sDmH:150 sDmH:180 wBXw:210 sDmH:185 SDNb:10 bL...\n",
       "3    11  kMqw:85 rpDi:260 0jJn:220 aqe8:170 pnhe:145 0Y...\n",
       "4    12  hOlg:210 FF5P:40 FXxf:95 FXxf:90 hOlg:290 hOlg..."
      ]
     },
     "execution_count": 73,
     "metadata": {},
     "output_type": "execute_result"
    }
   ],
   "source": [
    "df_sub = pd.DataFrame(res)\n",
    "df_sub.head()"
   ]
  },
  {
   "cell_type": "code",
   "execution_count": 74,
   "metadata": {},
   "outputs": [],
   "source": [
    "df_sub.to_csv('sub_rnn6_1006_5385.csv', index=False)"
   ]
  },
  {
   "cell_type": "code",
   "execution_count": 1,
   "metadata": {},
   "outputs": [
    {
     "name": "stdout",
     "output_type": "stream",
     "text": [
      "Warning: Looks like you're using an outdated API Version, please consider updating (server 1.5.6 / client 1.5.5)\n",
      "100%|██████████████████████████████████████| 1.19G/1.19G [01:42<00:00, 12.4MB/s]\n",
      "Successfully submitted to The 3rd YouTube-8M Video Understanding Challenge"
     ]
    }
   ],
   "source": [
    "!kaggle competitions submit -c youtube8m-2019 -f sub_rnn6_1006_5385.csv -m 'submit'"
   ]
  },
  {
   "cell_type": "code",
   "execution_count": null,
   "metadata": {},
   "outputs": [],
   "source": [
    "!ls -lh"
   ]
  },
  {
   "cell_type": "code",
   "execution_count": null,
   "metadata": {},
   "outputs": [],
   "source": []
  }
 ],
 "metadata": {
  "kernelspec": {
   "display_name": "Python 3",
   "language": "python",
   "name": "python3"
  },
  "language_info": {
   "codemirror_mode": {
    "name": "ipython",
    "version": 3
   },
   "file_extension": ".py",
   "mimetype": "text/x-python",
   "name": "python",
   "nbconvert_exporter": "python",
   "pygments_lexer": "ipython3",
   "version": "3.7.3"
  }
 },
 "nbformat": 4,
 "nbformat_minor": 2
}
