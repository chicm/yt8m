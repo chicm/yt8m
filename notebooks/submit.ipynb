{
 "cells": [
  {
   "cell_type": "code",
   "execution_count": 24,
   "metadata": {},
   "outputs": [],
   "source": [
    "import numpy as np\n",
    "import pandas as pd\n",
    "from tqdm import tqdm"
   ]
  },
  {
   "cell_type": "code",
   "execution_count": 15,
   "metadata": {},
   "outputs": [
    {
     "name": "stdout",
     "output_type": "stream",
     "text": [
      "data_converter.py  models.py  probs_100.npy  __pycache__  train.py  work_dirs\r\n",
      "loader.py\t   notebooks  probs.npy      settings.py  utils.py\r\n"
     ]
    }
   ],
   "source": [
    "!ls /data2/yt8m/code/yt8m"
   ]
  },
  {
   "cell_type": "code",
   "execution_count": 55,
   "metadata": {},
   "outputs": [
    {
     "data": {
      "text/plain": [
       "array([[6.9659978e-01, 1.3740591e-04, 1.1694086e-06, ..., 8.6689353e-05,\n",
       "        6.0337617e-05, 2.5136296e-07],\n",
       "       [8.1797791e-01, 4.7672194e-07, 1.8004628e-05, ..., 1.0984526e-08,\n",
       "        5.2207708e-04, 1.4610782e-07]], dtype=float32)"
      ]
     },
     "execution_count": 55,
     "metadata": {},
     "output_type": "execute_result"
    }
   ],
   "source": [
    "p1 = np.load('/data2/yt8m/code/yt8m/probs.npy', allow_pickle=True)\n",
    "p1[:2]"
   ]
  },
  {
   "cell_type": "code",
   "execution_count": 53,
   "metadata": {},
   "outputs": [
    {
     "data": {
      "text/plain": [
       "array([[8.8766348e-01, 7.4459531e-05, 1.4046773e-07, ..., 1.0157839e-05,\n",
       "        3.3870427e-04, 8.4951431e-08],\n",
       "       [9.9903846e-01, 4.3215941e-11, 9.2645269e-09, ..., 5.1636928e-12,\n",
       "        5.8856360e-05, 4.3446281e-11]], dtype=float32)"
      ]
     },
     "execution_count": 53,
     "metadata": {},
     "output_type": "execute_result"
    }
   ],
   "source": [
    "p2 = np.load('/data2/yt8m/code/yt8m/rnn3_0918.npy', allow_pickle=True)\n",
    "p2[:2]"
   ]
  },
  {
   "cell_type": "code",
   "execution_count": 56,
   "metadata": {},
   "outputs": [],
   "source": [
    "p = np.average([p1, p2], 0)"
   ]
  },
  {
   "cell_type": "code",
   "execution_count": 57,
   "metadata": {},
   "outputs": [
    {
     "data": {
      "text/plain": [
       "numpy.ndarray"
      ]
     },
     "execution_count": 57,
     "metadata": {},
     "output_type": "execute_result"
    }
   ],
   "source": [
    "type(p)"
   ]
  },
  {
   "cell_type": "code",
   "execution_count": 58,
   "metadata": {},
   "outputs": [
    {
     "data": {
      "text/plain": [
       "(2038114, 1001)"
      ]
     },
     "execution_count": 58,
     "metadata": {},
     "output_type": "execute_result"
    }
   ],
   "source": [
    "p.shape"
   ]
  },
  {
   "cell_type": "code",
   "execution_count": 59,
   "metadata": {},
   "outputs": [
    {
     "data": {
      "text/plain": [
       "array([[7.9213166e-01, 1.0593272e-04, 6.5493816e-07, ..., 4.8423597e-05,\n",
       "        1.9952095e-04, 1.6815720e-07],\n",
       "       [9.0850818e-01, 2.3838258e-07, 9.0069461e-06, ..., 5.4948450e-09,\n",
       "        2.9046673e-04, 7.3075633e-08]], dtype=float32)"
      ]
     },
     "execution_count": 59,
     "metadata": {},
     "output_type": "execute_result"
    }
   ],
   "source": [
    "p[:2]"
   ]
  },
  {
   "cell_type": "code",
   "execution_count": 4,
   "metadata": {},
   "outputs": [
    {
     "data": {
      "text/html": [
       "<div>\n",
       "<style scoped>\n",
       "    .dataframe tbody tr th:only-of-type {\n",
       "        vertical-align: middle;\n",
       "    }\n",
       "\n",
       "    .dataframe tbody tr th {\n",
       "        vertical-align: top;\n",
       "    }\n",
       "\n",
       "    .dataframe thead th {\n",
       "        text-align: right;\n",
       "    }\n",
       "</style>\n",
       "<table border=\"1\" class=\"dataframe\">\n",
       "  <thead>\n",
       "    <tr style=\"text-align: right;\">\n",
       "      <th></th>\n",
       "      <th>vid</th>\n",
       "      <th>start_time</th>\n",
       "    </tr>\n",
       "  </thead>\n",
       "  <tbody>\n",
       "    <tr>\n",
       "      <th>0</th>\n",
       "      <td>MeVj</td>\n",
       "      <td>0</td>\n",
       "    </tr>\n",
       "    <tr>\n",
       "      <th>1</th>\n",
       "      <td>MeVj</td>\n",
       "      <td>5</td>\n",
       "    </tr>\n",
       "    <tr>\n",
       "      <th>2</th>\n",
       "      <td>MeVj</td>\n",
       "      <td>10</td>\n",
       "    </tr>\n",
       "    <tr>\n",
       "      <th>3</th>\n",
       "      <td>MeVj</td>\n",
       "      <td>15</td>\n",
       "    </tr>\n",
       "    <tr>\n",
       "      <th>4</th>\n",
       "      <td>MeVj</td>\n",
       "      <td>20</td>\n",
       "    </tr>\n",
       "  </tbody>\n",
       "</table>\n",
       "</div>"
      ],
      "text/plain": [
       "    vid  start_time\n",
       "0  MeVj           0\n",
       "1  MeVj           5\n",
       "2  MeVj          10\n",
       "3  MeVj          15\n",
       "4  MeVj          20"
      ]
     },
     "execution_count": 4,
     "metadata": {},
     "output_type": "execute_result"
    }
   ],
   "source": [
    "df_test = pd.read_csv('/data2/yt8m/3/frame/test_ids.csv')\n",
    "df_test.head()"
   ]
  },
  {
   "cell_type": "code",
   "execution_count": 5,
   "metadata": {},
   "outputs": [
    {
     "data": {
      "text/plain": [
       "array([['MeVj', 0],\n",
       "       ['MeVj', 5]], dtype=object)"
      ]
     },
     "execution_count": 5,
     "metadata": {},
     "output_type": "execute_result"
    }
   ],
   "source": [
    "df_test.values[:2]"
   ]
  },
  {
   "cell_type": "code",
   "execution_count": 6,
   "metadata": {},
   "outputs": [],
   "source": [
    "def get_seg_id(row):\n",
    "    return '{}:{}'.format(row.vid, row.start_time)"
   ]
  },
  {
   "cell_type": "code",
   "execution_count": 8,
   "metadata": {},
   "outputs": [
    {
     "data": {
      "text/html": [
       "<div>\n",
       "<style scoped>\n",
       "    .dataframe tbody tr th:only-of-type {\n",
       "        vertical-align: middle;\n",
       "    }\n",
       "\n",
       "    .dataframe tbody tr th {\n",
       "        vertical-align: top;\n",
       "    }\n",
       "\n",
       "    .dataframe thead th {\n",
       "        text-align: right;\n",
       "    }\n",
       "</style>\n",
       "<table border=\"1\" class=\"dataframe\">\n",
       "  <thead>\n",
       "    <tr style=\"text-align: right;\">\n",
       "      <th></th>\n",
       "      <th>vid</th>\n",
       "      <th>start_time</th>\n",
       "      <th>seg_id</th>\n",
       "    </tr>\n",
       "  </thead>\n",
       "  <tbody>\n",
       "    <tr>\n",
       "      <th>0</th>\n",
       "      <td>MeVj</td>\n",
       "      <td>0</td>\n",
       "      <td>MeVj:0</td>\n",
       "    </tr>\n",
       "    <tr>\n",
       "      <th>1</th>\n",
       "      <td>MeVj</td>\n",
       "      <td>5</td>\n",
       "      <td>MeVj:5</td>\n",
       "    </tr>\n",
       "    <tr>\n",
       "      <th>2</th>\n",
       "      <td>MeVj</td>\n",
       "      <td>10</td>\n",
       "      <td>MeVj:10</td>\n",
       "    </tr>\n",
       "    <tr>\n",
       "      <th>3</th>\n",
       "      <td>MeVj</td>\n",
       "      <td>15</td>\n",
       "      <td>MeVj:15</td>\n",
       "    </tr>\n",
       "    <tr>\n",
       "      <th>4</th>\n",
       "      <td>MeVj</td>\n",
       "      <td>20</td>\n",
       "      <td>MeVj:20</td>\n",
       "    </tr>\n",
       "  </tbody>\n",
       "</table>\n",
       "</div>"
      ],
      "text/plain": [
       "    vid  start_time   seg_id\n",
       "0  MeVj           0   MeVj:0\n",
       "1  MeVj           5   MeVj:5\n",
       "2  MeVj          10  MeVj:10\n",
       "3  MeVj          15  MeVj:15\n",
       "4  MeVj          20  MeVj:20"
      ]
     },
     "execution_count": 8,
     "metadata": {},
     "output_type": "execute_result"
    }
   ],
   "source": [
    "df_test['seg_id'] = df_test.apply(lambda x: get_seg_id(x), axis=1)\n",
    "df_test.head()"
   ]
  },
  {
   "cell_type": "code",
   "execution_count": 20,
   "metadata": {},
   "outputs": [
    {
     "data": {
      "text/html": [
       "<div>\n",
       "<style scoped>\n",
       "    .dataframe tbody tr th:only-of-type {\n",
       "        vertical-align: middle;\n",
       "    }\n",
       "\n",
       "    .dataframe tbody tr th {\n",
       "        vertical-align: top;\n",
       "    }\n",
       "\n",
       "    .dataframe thead th {\n",
       "        text-align: right;\n",
       "    }\n",
       "</style>\n",
       "<table border=\"1\" class=\"dataframe\">\n",
       "  <thead>\n",
       "    <tr style=\"text-align: right;\">\n",
       "      <th></th>\n",
       "      <th>vid</th>\n",
       "      <th>start_time</th>\n",
       "      <th>seg_id</th>\n",
       "    </tr>\n",
       "  </thead>\n",
       "  <tbody>\n",
       "    <tr>\n",
       "      <th>0</th>\n",
       "      <td>MeVj</td>\n",
       "      <td>0</td>\n",
       "      <td>MeVj:0</td>\n",
       "    </tr>\n",
       "    <tr>\n",
       "      <th>1</th>\n",
       "      <td>MeVj</td>\n",
       "      <td>5</td>\n",
       "      <td>MeVj:5</td>\n",
       "    </tr>\n",
       "    <tr>\n",
       "      <th>2</th>\n",
       "      <td>MeVj</td>\n",
       "      <td>10</td>\n",
       "      <td>MeVj:10</td>\n",
       "    </tr>\n",
       "    <tr>\n",
       "      <th>3</th>\n",
       "      <td>MeVj</td>\n",
       "      <td>15</td>\n",
       "      <td>MeVj:15</td>\n",
       "    </tr>\n",
       "    <tr>\n",
       "      <th>4</th>\n",
       "      <td>MeVj</td>\n",
       "      <td>20</td>\n",
       "      <td>MeVj:20</td>\n",
       "    </tr>\n",
       "  </tbody>\n",
       "</table>\n",
       "</div>"
      ],
      "text/plain": [
       "    vid  start_time   seg_id\n",
       "0  MeVj           0   MeVj:0\n",
       "1  MeVj           5   MeVj:5\n",
       "2  MeVj          10  MeVj:10\n",
       "3  MeVj          15  MeVj:15\n",
       "4  MeVj          20  MeVj:20"
      ]
     },
     "execution_count": 20,
     "metadata": {},
     "output_type": "execute_result"
    }
   ],
   "source": [
    "df_test.head()"
   ]
  },
  {
   "cell_type": "code",
   "execution_count": 13,
   "metadata": {},
   "outputs": [
    {
     "data": {
      "text/plain": [
       "array([93, 92, 94, 90, 81, 91, 69, 79, 60, 95, 83, 82, 70, 96, 19, 62, 84,\n",
       "       63, 78, 25, 85, 64, 37, 30, 38, 65, 61, 71, 76, 77, 49, 68, 72, 50,\n",
       "       14, 98, 88, 80, 52,  0, 87, 66, 73, 89, 75, 33, 51, 44, 99,  5, 41,\n",
       "       29, 31, 24, 67, 45,  6, 23, 97, 86, 48, 43, 20, 42,  3, 26,  8, 16,\n",
       "       39, 74, 46, 15, 54,  7, 57, 21, 36,  2, 18, 27, 17, 47, 12, 58, 22,\n",
       "       59, 11, 13, 34,  4, 53, 55, 35,  1, 40, 28, 32, 56, 10,  9])"
      ]
     },
     "execution_count": 13,
     "metadata": {},
     "output_type": "execute_result"
    }
   ],
   "source": [
    "idx = np.argsort(p[:,1])[::-1]\n",
    "idx"
   ]
  },
  {
   "cell_type": "code",
   "execution_count": 12,
   "metadata": {},
   "outputs": [
    {
     "data": {
      "text/plain": [
       "0.023245452"
      ]
     },
     "execution_count": 12,
     "metadata": {},
     "output_type": "execute_result"
    }
   ],
   "source": [
    "p[:,1][93]"
   ]
  },
  {
   "cell_type": "code",
   "execution_count": 14,
   "metadata": {},
   "outputs": [
    {
     "data": {
      "text/plain": [
       "array(['nBeX:165', 'nBeX:160', 'nBeX:170', 'nBeX:150', 'nBeX:105',\n",
       "       'nBeX:155', 'nBeX:45', 'nBeX:95', 'nBeX:0', 'nBeX:175', 'nBeX:115',\n",
       "       'nBeX:110', 'nBeX:50', 'nBeX:180', 'MeVj:95', 'nBeX:10',\n",
       "       'nBeX:120', 'nBeX:15', 'nBeX:90', 'MeVj:125', 'nBeX:125',\n",
       "       'nBeX:20', 'MeVj:185', 'MeVj:150', 'MeVj:190', 'nBeX:25', 'nBeX:5',\n",
       "       'nBeX:55', 'nBeX:80', 'nBeX:85', 'MeVj:245', 'nBeX:40', 'nBeX:60',\n",
       "       'MeVj:250', 'MeVj:70', 'nBeX:190', 'nBeX:140', 'nBeX:100',\n",
       "       'MeVj:260', 'MeVj:0', 'nBeX:135', 'nBeX:30', 'nBeX:65', 'nBeX:145',\n",
       "       'nBeX:75', 'MeVj:165', 'MeVj:255', 'MeVj:220', 'nBeX:195',\n",
       "       'MeVj:25', 'MeVj:205', 'MeVj:145', 'MeVj:155', 'MeVj:120',\n",
       "       'nBeX:35', 'MeVj:225', 'MeVj:30', 'MeVj:115', 'nBeX:185',\n",
       "       'nBeX:130', 'MeVj:240', 'MeVj:215', 'MeVj:100', 'MeVj:210',\n",
       "       'MeVj:15', 'MeVj:130', 'MeVj:40', 'MeVj:80', 'MeVj:195', 'nBeX:70',\n",
       "       'MeVj:230', 'MeVj:75', 'MeVj:270', 'MeVj:35', 'MeVj:285',\n",
       "       'MeVj:105', 'MeVj:180', 'MeVj:10', 'MeVj:90', 'MeVj:135',\n",
       "       'MeVj:85', 'MeVj:235', 'MeVj:60', 'MeVj:290', 'MeVj:110',\n",
       "       'MeVj:295', 'MeVj:55', 'MeVj:65', 'MeVj:170', 'MeVj:20',\n",
       "       'MeVj:265', 'MeVj:275', 'MeVj:175', 'MeVj:5', 'MeVj:200',\n",
       "       'MeVj:140', 'MeVj:160', 'MeVj:280', 'MeVj:50', 'MeVj:45'],\n",
       "      dtype=object)"
      ]
     },
     "execution_count": 14,
     "metadata": {},
     "output_type": "execute_result"
    }
   ],
   "source": [
    "df_test.seg_id.values[idx]"
   ]
  },
  {
   "cell_type": "code",
   "execution_count": 21,
   "metadata": {},
   "outputs": [],
   "source": [
    "def get_classes():\n",
    "    df = pd.read_csv('/data2/yt8m/3/frame/classes.csv')\n",
    "    c = df['class'].values.tolist()\n",
    "    stoi = { c[i]: i for i in range(len(c)) }\n",
    "    return c, stoi\n",
    "\n",
    "classes, _ = get_classes()"
   ]
  },
  {
   "cell_type": "code",
   "execution_count": 22,
   "metadata": {},
   "outputs": [
    {
     "data": {
      "text/plain": [
       "['none', '3']"
      ]
     },
     "execution_count": 22,
     "metadata": {},
     "output_type": "execute_result"
    }
   ],
   "source": [
    "classes[:2]"
   ]
  },
  {
   "cell_type": "code",
   "execution_count": 23,
   "metadata": {},
   "outputs": [
    {
     "name": "stdout",
     "output_type": "stream",
     "text": [
      "(2038114, 3) (2038114, 1001)\n"
     ]
    }
   ],
   "source": [
    "print(df_test.shape, p.shape)"
   ]
  },
  {
   "cell_type": "code",
   "execution_count": 60,
   "metadata": {},
   "outputs": [
    {
     "name": "stderr",
     "output_type": "stream",
     "text": [
      "100%|██████████| 1000/1000 [05:07<00:00,  3.28it/s]\n"
     ]
    }
   ],
   "source": [
    "res = []\n",
    "for i in tqdm(range(1, 1001)):\n",
    "    idx = np.argsort(p[:,i])[::-1][:100000]\n",
    "    best_segs = df_test.seg_id.values[idx]\n",
    "    pred_str = ' '.join(best_segs)\n",
    "    res.append({\n",
    "        'Class': classes[i],\n",
    "        'Segments': pred_str\n",
    "    })\n"
   ]
  },
  {
   "cell_type": "code",
   "execution_count": 61,
   "metadata": {},
   "outputs": [
    {
     "data": {
      "text/html": [
       "<div>\n",
       "<style scoped>\n",
       "    .dataframe tbody tr th:only-of-type {\n",
       "        vertical-align: middle;\n",
       "    }\n",
       "\n",
       "    .dataframe tbody tr th {\n",
       "        vertical-align: top;\n",
       "    }\n",
       "\n",
       "    .dataframe thead th {\n",
       "        text-align: right;\n",
       "    }\n",
       "</style>\n",
       "<table border=\"1\" class=\"dataframe\">\n",
       "  <thead>\n",
       "    <tr style=\"text-align: right;\">\n",
       "      <th></th>\n",
       "      <th>Class</th>\n",
       "      <th>Segments</th>\n",
       "    </tr>\n",
       "  </thead>\n",
       "  <tbody>\n",
       "    <tr>\n",
       "      <th>0</th>\n",
       "      <td>3</td>\n",
       "      <td>Rbop:90 1shy:15 Rbop:40 Rbop:95 Rbop:120 Rbop:...</td>\n",
       "    </tr>\n",
       "    <tr>\n",
       "      <th>1</th>\n",
       "      <td>7</td>\n",
       "      <td>WEoW:85 WEoW:105 WEoW:115 1yAi:15 nDT4:70 HmvV...</td>\n",
       "    </tr>\n",
       "    <tr>\n",
       "      <th>2</th>\n",
       "      <td>8</td>\n",
       "      <td>sYqm:60 sYqm:70 sYqm:125 sYqm:130 AoRH:185 KG7...</td>\n",
       "    </tr>\n",
       "    <tr>\n",
       "      <th>3</th>\n",
       "      <td>11</td>\n",
       "      <td>7Cuq:255 zdov:105 oVyD:200 CwkZ:175 zdov:40 2J...</td>\n",
       "    </tr>\n",
       "    <tr>\n",
       "      <th>4</th>\n",
       "      <td>12</td>\n",
       "      <td>xupR:100 FXxf:80 FXxf:135 o1QP:120 FXxf:70 odz...</td>\n",
       "    </tr>\n",
       "  </tbody>\n",
       "</table>\n",
       "</div>"
      ],
      "text/plain": [
       "  Class                                           Segments\n",
       "0     3  Rbop:90 1shy:15 Rbop:40 Rbop:95 Rbop:120 Rbop:...\n",
       "1     7  WEoW:85 WEoW:105 WEoW:115 1yAi:15 nDT4:70 HmvV...\n",
       "2     8  sYqm:60 sYqm:70 sYqm:125 sYqm:130 AoRH:185 KG7...\n",
       "3    11  7Cuq:255 zdov:105 oVyD:200 CwkZ:175 zdov:40 2J...\n",
       "4    12  xupR:100 FXxf:80 FXxf:135 o1QP:120 FXxf:70 odz..."
      ]
     },
     "execution_count": 61,
     "metadata": {},
     "output_type": "execute_result"
    }
   ],
   "source": [
    "df_sub = pd.DataFrame(res)\n",
    "df_sub.head()"
   ]
  },
  {
   "cell_type": "code",
   "execution_count": 62,
   "metadata": {},
   "outputs": [],
   "source": [
    "df_sub.to_csv('sub_ens1.csv', index=False)"
   ]
  },
  {
   "cell_type": "code",
   "execution_count": 63,
   "metadata": {},
   "outputs": [
    {
     "name": "stdout",
     "output_type": "stream",
     "text": [
      "100%|████████████████████████████████████████| 810M/810M [00:37<00:00, 22.8MB/s]\n",
      "Successfully submitted to The 3rd YouTube-8M Video Understanding Challenge"
     ]
    }
   ],
   "source": [
    "!kaggle competitions submit -c youtube8m-2019 -f sub_ens1.csv -m 'submit'"
   ]
  },
  {
   "cell_type": "code",
   "execution_count": 36,
   "metadata": {},
   "outputs": [
    {
     "name": "stdout",
     "output_type": "stream",
     "text": [
      "total 25M\r\n",
      "-rw-r--r-- 1 FAREAST.chec FAREAST.domain users 444K Sep 16 13:33 create_meta.ipynb\r\n",
      "-rw-r--r-- 1 FAREAST.chec FAREAST.domain users  40K Sep 14 09:35 eda.ipynb\r\n",
      "-rw-r--r-- 1 FAREAST.chec FAREAST.domain users  17M Sep 17 19:06 sub1_rnn3_local057_2000.csv\r\n",
      "-rw-r--r-- 1 FAREAST.chec FAREAST.domain users 8.2M Sep 17 03:34 sub1_rnn3_local0.57.csv\r\n",
      "-rw-r--r-- 1 FAREAST.chec FAREAST.domain users  17K Sep 17 19:06 submit.ipynb\r\n"
     ]
    }
   ],
   "source": [
    "!ls -lh"
   ]
  },
  {
   "cell_type": "code",
   "execution_count": null,
   "metadata": {},
   "outputs": [],
   "source": []
  }
 ],
 "metadata": {
  "kernelspec": {
   "display_name": "Python 3",
   "language": "python",
   "name": "python3"
  },
  "language_info": {
   "codemirror_mode": {
    "name": "ipython",
    "version": 3
   },
   "file_extension": ".py",
   "mimetype": "text/x-python",
   "name": "python",
   "nbconvert_exporter": "python",
   "pygments_lexer": "ipython3",
   "version": "3.7.3"
  }
 },
 "nbformat": 4,
 "nbformat_minor": 2
}
