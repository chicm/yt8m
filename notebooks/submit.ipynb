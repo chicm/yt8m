{
 "cells": [
  {
   "cell_type": "code",
   "execution_count": 1,
   "metadata": {},
   "outputs": [],
   "source": [
    "import numpy as np\n",
    "import pandas as pd\n",
    "from tqdm import tqdm"
   ]
  },
  {
   "cell_type": "code",
   "execution_count": 2,
   "metadata": {},
   "outputs": [
    {
     "name": "stdout",
     "output_type": "stream",
     "text": [
      "notebooks  sigmoid  softmax\r\n"
     ]
    }
   ],
   "source": [
    "!ls /data2/yt8m/code/yt8m"
   ]
  },
  {
   "cell_type": "code",
   "execution_count": 3,
   "metadata": {},
   "outputs": [],
   "source": [
    "# p = np.load('/data2/yt8m/code/yt8m/probs_rnn3_tr_0919_1943.npy', allow_pickle=True) lb0.5xx"
   ]
  },
  {
   "cell_type": "code",
   "execution_count": 17,
   "metadata": {},
   "outputs": [],
   "source": [
    "p1 = np.load('/data2/yt8m/code/yt8m/softmax/rnn6_finetune_val_0921_5574.npy', allow_pickle=True)"
   ]
  },
  {
   "cell_type": "code",
   "execution_count": 16,
   "metadata": {},
   "outputs": [
    {
     "data": {
      "text/plain": [
       "array([[9.0666568e-01, 2.5496540e-06, 1.0090392e-06, ..., 2.5658448e-05,\n",
       "        6.0842640e-06, 2.5115046e-06],\n",
       "       [9.2794991e-01, 6.5408211e-05, 6.3841624e-05, ..., 5.5461137e-06,\n",
       "        2.5619098e-04, 7.3228948e-06]], dtype=float32)"
      ]
     },
     "execution_count": 16,
     "metadata": {},
     "output_type": "execute_result"
    }
   ],
   "source": [
    "p2 = np.load('/data2/yt8m/code/yt8m/softmax/rnn3_finetune_val_0919_5319.npy', allow_pickle=True)\n",
    "p1[:2]"
   ]
  },
  {
   "cell_type": "code",
   "execution_count": 18,
   "metadata": {},
   "outputs": [],
   "source": [
    "p = np.average([p1, p2], 0, weights=[0.5, 0.5])"
   ]
  },
  {
   "cell_type": "code",
   "execution_count": 19,
   "metadata": {},
   "outputs": [
    {
     "data": {
      "text/plain": [
       "numpy.ndarray"
      ]
     },
     "execution_count": 19,
     "metadata": {},
     "output_type": "execute_result"
    }
   ],
   "source": [
    "type(p)"
   ]
  },
  {
   "cell_type": "code",
   "execution_count": 20,
   "metadata": {},
   "outputs": [
    {
     "data": {
      "text/plain": [
       "array([[8.37563097e-01, 7.60683963e-06, 4.16047004e-06, ...,\n",
       "        5.82569237e-05, 1.08952231e-05, 2.87129335e-05],\n",
       "       [8.88292313e-01, 4.95916356e-05, 6.87898973e-05, ...,\n",
       "        7.85053703e-06, 8.34359540e-04, 2.32790499e-05]])"
      ]
     },
     "execution_count": 20,
     "metadata": {},
     "output_type": "execute_result"
    }
   ],
   "source": [
    "p[:2]"
   ]
  },
  {
   "cell_type": "code",
   "execution_count": 21,
   "metadata": {},
   "outputs": [
    {
     "data": {
      "text/html": [
       "<div>\n",
       "<style scoped>\n",
       "    .dataframe tbody tr th:only-of-type {\n",
       "        vertical-align: middle;\n",
       "    }\n",
       "\n",
       "    .dataframe tbody tr th {\n",
       "        vertical-align: top;\n",
       "    }\n",
       "\n",
       "    .dataframe thead th {\n",
       "        text-align: right;\n",
       "    }\n",
       "</style>\n",
       "<table border=\"1\" class=\"dataframe\">\n",
       "  <thead>\n",
       "    <tr style=\"text-align: right;\">\n",
       "      <th></th>\n",
       "      <th>vid</th>\n",
       "      <th>start_time</th>\n",
       "      <th>seg_id</th>\n",
       "    </tr>\n",
       "  </thead>\n",
       "  <tbody>\n",
       "    <tr>\n",
       "      <th>0</th>\n",
       "      <td>MeVj</td>\n",
       "      <td>0</td>\n",
       "      <td>MeVj:0</td>\n",
       "    </tr>\n",
       "    <tr>\n",
       "      <th>1</th>\n",
       "      <td>MeVj</td>\n",
       "      <td>5</td>\n",
       "      <td>MeVj:5</td>\n",
       "    </tr>\n",
       "    <tr>\n",
       "      <th>2</th>\n",
       "      <td>MeVj</td>\n",
       "      <td>10</td>\n",
       "      <td>MeVj:10</td>\n",
       "    </tr>\n",
       "    <tr>\n",
       "      <th>3</th>\n",
       "      <td>MeVj</td>\n",
       "      <td>15</td>\n",
       "      <td>MeVj:15</td>\n",
       "    </tr>\n",
       "    <tr>\n",
       "      <th>4</th>\n",
       "      <td>MeVj</td>\n",
       "      <td>20</td>\n",
       "      <td>MeVj:20</td>\n",
       "    </tr>\n",
       "  </tbody>\n",
       "</table>\n",
       "</div>"
      ],
      "text/plain": [
       "    vid  start_time   seg_id\n",
       "0  MeVj           0   MeVj:0\n",
       "1  MeVj           5   MeVj:5\n",
       "2  MeVj          10  MeVj:10\n",
       "3  MeVj          15  MeVj:15\n",
       "4  MeVj          20  MeVj:20"
      ]
     },
     "execution_count": 21,
     "metadata": {},
     "output_type": "execute_result"
    }
   ],
   "source": [
    "df_test = pd.read_csv('/data2/yt8m/3/frame/test_ids.csv')\n",
    "df_test.head()"
   ]
  },
  {
   "cell_type": "code",
   "execution_count": 22,
   "metadata": {},
   "outputs": [],
   "source": [
    "def get_classes():\n",
    "    df = pd.read_csv('/data2/yt8m/3/frame/classes_1001.csv')\n",
    "    c = df['class'].values.tolist()\n",
    "    stoi = { c[i]: i for i in range(len(c)) }\n",
    "    return c, stoi\n",
    "\n",
    "classes, _ = get_classes()"
   ]
  },
  {
   "cell_type": "code",
   "execution_count": 23,
   "metadata": {},
   "outputs": [
    {
     "data": {
      "text/plain": [
       "['none', '3']"
      ]
     },
     "execution_count": 23,
     "metadata": {},
     "output_type": "execute_result"
    }
   ],
   "source": [
    "classes[:2]"
   ]
  },
  {
   "cell_type": "code",
   "execution_count": 24,
   "metadata": {},
   "outputs": [
    {
     "name": "stdout",
     "output_type": "stream",
     "text": [
      "(2038114, 3) (2038114, 1001)\n"
     ]
    }
   ],
   "source": [
    "print(df_test.shape, p.shape)"
   ]
  },
  {
   "cell_type": "code",
   "execution_count": 25,
   "metadata": {},
   "outputs": [
    {
     "name": "stderr",
     "output_type": "stream",
     "text": [
      "100%|██████████| 1000/1000 [07:29<00:00,  2.23it/s]\n"
     ]
    }
   ],
   "source": [
    "res = []\n",
    "for i in tqdm(range(1, 1001)):\n",
    "    idx = np.argsort(p[:,i])[::-1][:100000]\n",
    "    best_segs = df_test.seg_id.values[idx]\n",
    "    pred_str = ' '.join(best_segs)\n",
    "    res.append({\n",
    "        'Class': classes[i],\n",
    "        'Segments': pred_str\n",
    "    })\n"
   ]
  },
  {
   "cell_type": "code",
   "execution_count": 26,
   "metadata": {},
   "outputs": [
    {
     "data": {
      "text/html": [
       "<div>\n",
       "<style scoped>\n",
       "    .dataframe tbody tr th:only-of-type {\n",
       "        vertical-align: middle;\n",
       "    }\n",
       "\n",
       "    .dataframe tbody tr th {\n",
       "        vertical-align: top;\n",
       "    }\n",
       "\n",
       "    .dataframe thead th {\n",
       "        text-align: right;\n",
       "    }\n",
       "</style>\n",
       "<table border=\"1\" class=\"dataframe\">\n",
       "  <thead>\n",
       "    <tr style=\"text-align: right;\">\n",
       "      <th></th>\n",
       "      <th>Class</th>\n",
       "      <th>Segments</th>\n",
       "    </tr>\n",
       "  </thead>\n",
       "  <tbody>\n",
       "    <tr>\n",
       "      <th>0</th>\n",
       "      <td>3</td>\n",
       "      <td>1shy:15 1shy:150 1shy:95 1shy:100 F4ZL:100 F4Z...</td>\n",
       "    </tr>\n",
       "    <tr>\n",
       "      <th>1</th>\n",
       "      <td>7</td>\n",
       "      <td>O7Z1:235 O7Z1:95 O7Z1:90 0UPH:175 O7Z1:240 O7Z...</td>\n",
       "    </tr>\n",
       "    <tr>\n",
       "      <th>2</th>\n",
       "      <td>8</td>\n",
       "      <td>zRMu:60 hcQU:255 Xhnt:40 sDmH:145 rUf6:110 qnS...</td>\n",
       "    </tr>\n",
       "    <tr>\n",
       "      <th>3</th>\n",
       "      <td>11</td>\n",
       "      <td>j6wU:220 DKzl:190 0F9k:125 bQG6:255 9VEE:110 2...</td>\n",
       "    </tr>\n",
       "    <tr>\n",
       "      <th>4</th>\n",
       "      <td>12</td>\n",
       "      <td>FXxf:100 L7U7:15 JJ9a:210 FXxf:70 FXxf:110 odz...</td>\n",
       "    </tr>\n",
       "  </tbody>\n",
       "</table>\n",
       "</div>"
      ],
      "text/plain": [
       "  Class                                           Segments\n",
       "0     3  1shy:15 1shy:150 1shy:95 1shy:100 F4ZL:100 F4Z...\n",
       "1     7  O7Z1:235 O7Z1:95 O7Z1:90 0UPH:175 O7Z1:240 O7Z...\n",
       "2     8  zRMu:60 hcQU:255 Xhnt:40 sDmH:145 rUf6:110 qnS...\n",
       "3    11  j6wU:220 DKzl:190 0F9k:125 bQG6:255 9VEE:110 2...\n",
       "4    12  FXxf:100 L7U7:15 JJ9a:210 FXxf:70 FXxf:110 odz..."
      ]
     },
     "execution_count": 26,
     "metadata": {},
     "output_type": "execute_result"
    }
   ],
   "source": [
    "df_sub = pd.DataFrame(res)\n",
    "df_sub.head()"
   ]
  },
  {
   "cell_type": "code",
   "execution_count": 27,
   "metadata": {},
   "outputs": [],
   "source": [
    "df_sub.to_csv('ens_finetune_5574_5319.csv', index=False)"
   ]
  },
  {
   "cell_type": "code",
   "execution_count": 28,
   "metadata": {},
   "outputs": [
    {
     "name": "stdout",
     "output_type": "stream",
     "text": [
      "Warning: Looks like you're using an outdated API Version, please consider updating (server 1.5.6 / client 1.5.5)\n",
      "100%|████████████████████████████████████████| 812M/812M [00:47<00:00, 17.9MB/s]\n",
      "Successfully submitted to The 3rd YouTube-8M Video Understanding Challenge"
     ]
    }
   ],
   "source": [
    "!kaggle competitions submit -c youtube8m-2019 -f ens_finetune_5574_5319.csv -m 'submit'"
   ]
  },
  {
   "cell_type": "code",
   "execution_count": 13,
   "metadata": {},
   "outputs": [
    {
     "name": "stdout",
     "output_type": "stream",
     "text": [
      "total 6.5G\r\n",
      "-rw-r--r-- 1 FAREAST.chec FAREAST.domain users 6.0M Sep 19 22:39 create_meta.ipynb\r\n",
      "-rw-r--r-- 1 FAREAST.chec FAREAST.domain users  41K Sep 18 15:56 eda.ipynb\r\n",
      "-rw-r--r-- 1 FAREAST.chec FAREAST.domain users 812M Sep 19 06:41 ens_0919_1.csv\r\n",
      "-rw-r--r-- 1 FAREAST.chec FAREAST.domain users 811M Sep 21 05:41 rnn6_softmax_finetune_5574.csv\r\n",
      "-rw-r--r-- 1 FAREAST.chec FAREAST.domain users 809M Sep 19 20:12 sigmoid_1.csv\r\n",
      "-rw-r--r-- 1 FAREAST.chec FAREAST.domain users 810M Sep 17 19:27 sub1_rnn3_local057_100000.csv\r\n",
      "-rw-r--r-- 1 FAREAST.chec FAREAST.domain users  82M Sep 17 19:16 sub1_rnn3_local057_10000.csv\r\n",
      "-rw-r--r-- 1 FAREAST.chec FAREAST.domain users  17M Sep 17 19:06 sub1_rnn3_local057_2000.csv\r\n",
      "-rw-r--r-- 1 FAREAST.chec FAREAST.domain users 8.2M Sep 17 03:34 sub1_rnn3_local0.57.csv\r\n",
      "-rw-r--r-- 1 FAREAST.chec FAREAST.domain users 810M Sep 18 04:53 sub_ens1.csv\r\n",
      "-rw-r--r-- 1 FAREAST.chec FAREAST.domain users  13K Sep 21 05:39 submit.ipynb\r\n",
      "-rw-r--r-- 1 FAREAST.chec FAREAST.domain users  13K Sep 19 20:16 submit-sigmoid.ipynb\r\n",
      "-rw-r--r-- 1 FAREAST.chec FAREAST.domain users 812M Sep 18 03:29 sub_rnn3_att_local060_100000.csv\r\n",
      "-rw-r--r-- 1 FAREAST.chec FAREAST.domain users 814M Sep 19 03:27 sub_rnn3_tr_0919_1943.csv\r\n",
      "-rw-r--r-- 1 FAREAST.chec FAREAST.domain users 812M Sep 19 06:12 sub_rnn3_tr_finetune_val_0919_5319.csv\r\n"
     ]
    }
   ],
   "source": [
    "!ls -lh"
   ]
  },
  {
   "cell_type": "code",
   "execution_count": 19,
   "metadata": {},
   "outputs": [],
   "source": [
    "del res"
   ]
  },
  {
   "cell_type": "code",
   "execution_count": 20,
   "metadata": {},
   "outputs": [],
   "source": [
    "del p"
   ]
  },
  {
   "cell_type": "code",
   "execution_count": null,
   "metadata": {},
   "outputs": [],
   "source": []
  }
 ],
 "metadata": {
  "kernelspec": {
   "display_name": "Python 3",
   "language": "python",
   "name": "python3"
  },
  "language_info": {
   "codemirror_mode": {
    "name": "ipython",
    "version": 3
   },
   "file_extension": ".py",
   "mimetype": "text/x-python",
   "name": "python",
   "nbconvert_exporter": "python",
   "pygments_lexer": "ipython3",
   "version": "3.7.3"
  }
 },
 "nbformat": 4,
 "nbformat_minor": 2
}
