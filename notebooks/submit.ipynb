{
 "cells": [
  {
   "cell_type": "code",
   "execution_count": 1,
   "metadata": {},
   "outputs": [],
   "source": [
    "import numpy as np\n",
    "import pandas as pd\n",
    "from tqdm import tqdm"
   ]
  },
  {
   "cell_type": "code",
   "execution_count": 2,
   "metadata": {},
   "outputs": [
    {
     "name": "stdout",
     "output_type": "stream",
     "text": [
      "data_converter.py  probs.npy\t\t\trnn3_finetune_val_0919_5319.npy\r\n",
      "loader.py\t   probs_rnn3_tr_0919_1943.npy\tsettings.py\r\n",
      "models.py\t   __pycache__\t\t\ttrain.py\r\n",
      "notebooks\t   radam.py\t\t\tutils.py\r\n",
      "probs_100.npy\t   rnn3_0918.npy\t\twork_dirs\r\n"
     ]
    }
   ],
   "source": [
    "!ls /data2/yt8m/code/yt8m"
   ]
  },
  {
   "cell_type": "code",
   "execution_count": 3,
   "metadata": {},
   "outputs": [],
   "source": [
    "# p = np.load('/data2/yt8m/code/yt8m/probs_rnn3_tr_0919_1943.npy', allow_pickle=True) lb0.5xx"
   ]
  },
  {
   "cell_type": "code",
   "execution_count": 4,
   "metadata": {},
   "outputs": [
    {
     "data": {
      "text/plain": [
       "array([[7.6846051e-01, 1.2664025e-05, 7.3119008e-06, ..., 9.0855399e-05,\n",
       "        1.5706182e-05, 5.4914362e-05],\n",
       "       [8.4863472e-01, 3.3775061e-05, 7.3738171e-05, ..., 1.0154960e-05,\n",
       "        1.4125281e-03, 3.9235205e-05]], dtype=float32)"
      ]
     },
     "execution_count": 4,
     "metadata": {},
     "output_type": "execute_result"
    }
   ],
   "source": [
    "p1 = np.load('/data2/yt8m/code/yt8m/rnn3_finetune_val_0919_5319.npy', allow_pickle=True)\n",
    "p1[:2]"
   ]
  },
  {
   "cell_type": "code",
   "execution_count": 5,
   "metadata": {},
   "outputs": [
    {
     "data": {
      "text/plain": [
       "array([[6.9659978e-01, 1.3740591e-04, 1.1694086e-06, ..., 8.6689353e-05,\n",
       "        6.0337617e-05, 2.5136296e-07],\n",
       "       [8.1797791e-01, 4.7672194e-07, 1.8004628e-05, ..., 1.0984526e-08,\n",
       "        5.2207708e-04, 1.4610782e-07]], dtype=float32)"
      ]
     },
     "execution_count": 5,
     "metadata": {},
     "output_type": "execute_result"
    }
   ],
   "source": [
    "p2 = np.load('/data2/yt8m/code/yt8m/probs.npy', allow_pickle=True)\n",
    "p2[:2]"
   ]
  },
  {
   "cell_type": "code",
   "execution_count": 6,
   "metadata": {},
   "outputs": [
    {
     "data": {
      "text/plain": [
       "array([[8.8766348e-01, 7.4459531e-05, 1.4046773e-07, ..., 1.0157839e-05,\n",
       "        3.3870427e-04, 8.4951431e-08],\n",
       "       [9.9903846e-01, 4.3215941e-11, 9.2645269e-09, ..., 5.1636928e-12,\n",
       "        5.8856360e-05, 4.3446281e-11]], dtype=float32)"
      ]
     },
     "execution_count": 6,
     "metadata": {},
     "output_type": "execute_result"
    }
   ],
   "source": [
    "p3 = np.load('/data2/yt8m/code/yt8m/rnn3_0918.npy', allow_pickle=True)\n",
    "p3[:2]"
   ]
  },
  {
   "cell_type": "code",
   "execution_count": 7,
   "metadata": {},
   "outputs": [],
   "source": [
    "p = np.average([p1, p2, p3], 0, weights=[0.7, 0.15, 0.15])"
   ]
  },
  {
   "cell_type": "code",
   "execution_count": 8,
   "metadata": {},
   "outputs": [
    {
     "data": {
      "text/plain": [
       "numpy.ndarray"
      ]
     },
     "execution_count": 8,
     "metadata": {},
     "output_type": "execute_result"
    }
   ],
   "source": [
    "type(p)"
   ]
  },
  {
   "cell_type": "code",
   "execution_count": 9,
   "metadata": {},
   "outputs": [
    {
     "data": {
      "text/plain": [
       "array([[7.75561848e-01, 4.06446333e-05, 5.31481204e-06, ...,\n",
       "        7.81258584e-05, 7.08506102e-05, 3.84905008e-05],\n",
       "       [8.66596758e-01, 2.37140573e-05, 5.43188033e-05, ...,\n",
       "        7.11012071e-06, 1.07590969e-03, 2.74865661e-05]])"
      ]
     },
     "execution_count": 9,
     "metadata": {},
     "output_type": "execute_result"
    }
   ],
   "source": [
    "p[:2]"
   ]
  },
  {
   "cell_type": "code",
   "execution_count": 10,
   "metadata": {},
   "outputs": [
    {
     "data": {
      "text/html": [
       "<div>\n",
       "<style scoped>\n",
       "    .dataframe tbody tr th:only-of-type {\n",
       "        vertical-align: middle;\n",
       "    }\n",
       "\n",
       "    .dataframe tbody tr th {\n",
       "        vertical-align: top;\n",
       "    }\n",
       "\n",
       "    .dataframe thead th {\n",
       "        text-align: right;\n",
       "    }\n",
       "</style>\n",
       "<table border=\"1\" class=\"dataframe\">\n",
       "  <thead>\n",
       "    <tr style=\"text-align: right;\">\n",
       "      <th></th>\n",
       "      <th>vid</th>\n",
       "      <th>start_time</th>\n",
       "      <th>seg_id</th>\n",
       "    </tr>\n",
       "  </thead>\n",
       "  <tbody>\n",
       "    <tr>\n",
       "      <th>0</th>\n",
       "      <td>MeVj</td>\n",
       "      <td>0</td>\n",
       "      <td>MeVj:0</td>\n",
       "    </tr>\n",
       "    <tr>\n",
       "      <th>1</th>\n",
       "      <td>MeVj</td>\n",
       "      <td>5</td>\n",
       "      <td>MeVj:5</td>\n",
       "    </tr>\n",
       "    <tr>\n",
       "      <th>2</th>\n",
       "      <td>MeVj</td>\n",
       "      <td>10</td>\n",
       "      <td>MeVj:10</td>\n",
       "    </tr>\n",
       "    <tr>\n",
       "      <th>3</th>\n",
       "      <td>MeVj</td>\n",
       "      <td>15</td>\n",
       "      <td>MeVj:15</td>\n",
       "    </tr>\n",
       "    <tr>\n",
       "      <th>4</th>\n",
       "      <td>MeVj</td>\n",
       "      <td>20</td>\n",
       "      <td>MeVj:20</td>\n",
       "    </tr>\n",
       "  </tbody>\n",
       "</table>\n",
       "</div>"
      ],
      "text/plain": [
       "    vid  start_time   seg_id\n",
       "0  MeVj           0   MeVj:0\n",
       "1  MeVj           5   MeVj:5\n",
       "2  MeVj          10  MeVj:10\n",
       "3  MeVj          15  MeVj:15\n",
       "4  MeVj          20  MeVj:20"
      ]
     },
     "execution_count": 10,
     "metadata": {},
     "output_type": "execute_result"
    }
   ],
   "source": [
    "df_test = pd.read_csv('/data2/yt8m/3/frame/test_ids.csv')\n",
    "df_test.head()"
   ]
  },
  {
   "cell_type": "code",
   "execution_count": 11,
   "metadata": {},
   "outputs": [],
   "source": [
    "def get_classes():\n",
    "    df = pd.read_csv('/data2/yt8m/3/frame/classes_1001.csv')\n",
    "    c = df['class'].values.tolist()\n",
    "    stoi = { c[i]: i for i in range(len(c)) }\n",
    "    return c, stoi\n",
    "\n",
    "classes, _ = get_classes()"
   ]
  },
  {
   "cell_type": "code",
   "execution_count": 12,
   "metadata": {},
   "outputs": [
    {
     "data": {
      "text/plain": [
       "['none', '3']"
      ]
     },
     "execution_count": 12,
     "metadata": {},
     "output_type": "execute_result"
    }
   ],
   "source": [
    "classes[:2]"
   ]
  },
  {
   "cell_type": "code",
   "execution_count": 13,
   "metadata": {},
   "outputs": [
    {
     "name": "stdout",
     "output_type": "stream",
     "text": [
      "(2038114, 3) (2038114, 1001)\n"
     ]
    }
   ],
   "source": [
    "print(df_test.shape, p.shape)"
   ]
  },
  {
   "cell_type": "code",
   "execution_count": 14,
   "metadata": {},
   "outputs": [
    {
     "name": "stderr",
     "output_type": "stream",
     "text": [
      "100%|██████████| 1000/1000 [05:32<00:00,  3.01it/s]\n"
     ]
    }
   ],
   "source": [
    "res = []\n",
    "for i in tqdm(range(1, 1001)):\n",
    "    idx = np.argsort(p[:,i])[::-1][:100000]\n",
    "    best_segs = df_test.seg_id.values[idx]\n",
    "    pred_str = ' '.join(best_segs)\n",
    "    res.append({\n",
    "        'Class': classes[i],\n",
    "        'Segments': pred_str\n",
    "    })\n"
   ]
  },
  {
   "cell_type": "code",
   "execution_count": 15,
   "metadata": {},
   "outputs": [
    {
     "data": {
      "text/html": [
       "<div>\n",
       "<style scoped>\n",
       "    .dataframe tbody tr th:only-of-type {\n",
       "        vertical-align: middle;\n",
       "    }\n",
       "\n",
       "    .dataframe tbody tr th {\n",
       "        vertical-align: top;\n",
       "    }\n",
       "\n",
       "    .dataframe thead th {\n",
       "        text-align: right;\n",
       "    }\n",
       "</style>\n",
       "<table border=\"1\" class=\"dataframe\">\n",
       "  <thead>\n",
       "    <tr style=\"text-align: right;\">\n",
       "      <th></th>\n",
       "      <th>Class</th>\n",
       "      <th>Segments</th>\n",
       "    </tr>\n",
       "  </thead>\n",
       "  <tbody>\n",
       "    <tr>\n",
       "      <th>0</th>\n",
       "      <td>3</td>\n",
       "      <td>1shy:15 LXlb:65 1shy:150 Rbop:5 1shy:100 1shy:...</td>\n",
       "    </tr>\n",
       "    <tr>\n",
       "      <th>1</th>\n",
       "      <td>7</td>\n",
       "      <td>WEoW:105 WEoW:85 NQHs:35 WEoW:115 hSim:135 3F8...</td>\n",
       "    </tr>\n",
       "    <tr>\n",
       "      <th>2</th>\n",
       "      <td>8</td>\n",
       "      <td>sYqm:40 sYqm:190 sYqm:90 sYqm:145 sYqm:70 sYqm...</td>\n",
       "    </tr>\n",
       "    <tr>\n",
       "      <th>3</th>\n",
       "      <td>11</td>\n",
       "      <td>j6wU:220 2JGm:175 2JGm:135 bQG6:255 uue7:5 2JG...</td>\n",
       "    </tr>\n",
       "    <tr>\n",
       "      <th>4</th>\n",
       "      <td>12</td>\n",
       "      <td>odzE:265 L7U7:15 JJ9a:210 FXxf:100 FXxf:90 FXx...</td>\n",
       "    </tr>\n",
       "  </tbody>\n",
       "</table>\n",
       "</div>"
      ],
      "text/plain": [
       "  Class                                           Segments\n",
       "0     3  1shy:15 LXlb:65 1shy:150 Rbop:5 1shy:100 1shy:...\n",
       "1     7  WEoW:105 WEoW:85 NQHs:35 WEoW:115 hSim:135 3F8...\n",
       "2     8  sYqm:40 sYqm:190 sYqm:90 sYqm:145 sYqm:70 sYqm...\n",
       "3    11  j6wU:220 2JGm:175 2JGm:135 bQG6:255 uue7:5 2JG...\n",
       "4    12  odzE:265 L7U7:15 JJ9a:210 FXxf:100 FXxf:90 FXx..."
      ]
     },
     "execution_count": 15,
     "metadata": {},
     "output_type": "execute_result"
    }
   ],
   "source": [
    "df_sub = pd.DataFrame(res)\n",
    "df_sub.head()"
   ]
  },
  {
   "cell_type": "code",
   "execution_count": 16,
   "metadata": {},
   "outputs": [],
   "source": [
    "df_sub.to_csv('ens_0919_1.csv', index=False)"
   ]
  },
  {
   "cell_type": "code",
   "execution_count": 17,
   "metadata": {},
   "outputs": [
    {
     "name": "stdout",
     "output_type": "stream",
     "text": [
      "100%|████████████████████████████████████████| 812M/812M [00:23<00:00, 36.8MB/s]\n",
      "Successfully submitted to The 3rd YouTube-8M Video Understanding Challenge"
     ]
    }
   ],
   "source": [
    "!kaggle competitions submit -c youtube8m-2019 -f ens_0919_1.csv -m 'submit'"
   ]
  },
  {
   "cell_type": "code",
   "execution_count": 18,
   "metadata": {},
   "outputs": [
    {
     "name": "stdout",
     "output_type": "stream",
     "text": [
      "total 4.9G\r\n",
      "-rw-r--r-- 1 FAREAST.chec FAREAST.domain users 5.8M Sep 18 14:09 create_meta.ipynb\r\n",
      "-rw-r--r-- 1 FAREAST.chec FAREAST.domain users  41K Sep 18 15:56 eda.ipynb\r\n",
      "-rw-r--r-- 1 FAREAST.chec FAREAST.domain users 812M Sep 19 06:41 ens_0919_1.csv\r\n",
      "-rw-r--r-- 1 FAREAST.chec FAREAST.domain users 810M Sep 17 19:27 sub1_rnn3_local057_100000.csv\r\n",
      "-rw-r--r-- 1 FAREAST.chec FAREAST.domain users  82M Sep 17 19:16 sub1_rnn3_local057_10000.csv\r\n",
      "-rw-r--r-- 1 FAREAST.chec FAREAST.domain users  17M Sep 17 19:06 sub1_rnn3_local057_2000.csv\r\n",
      "-rw-r--r-- 1 FAREAST.chec FAREAST.domain users 8.2M Sep 17 03:34 sub1_rnn3_local0.57.csv\r\n",
      "-rw-r--r-- 1 FAREAST.chec FAREAST.domain users 810M Sep 18 04:53 sub_ens1.csv\r\n",
      "-rw-r--r-- 1 FAREAST.chec FAREAST.domain users 9.1K Sep 19 06:40 submit.ipynb\r\n",
      "-rw-r--r-- 1 FAREAST.chec FAREAST.domain users 812M Sep 18 03:29 sub_rnn3_att_local060_100000.csv\r\n",
      "-rw-r--r-- 1 FAREAST.chec FAREAST.domain users 814M Sep 19 03:27 sub_rnn3_tr_0919_1943.csv\r\n",
      "-rw-r--r-- 1 FAREAST.chec FAREAST.domain users 812M Sep 19 06:12 sub_rnn3_tr_finetune_val_0919_5319.csv\r\n"
     ]
    }
   ],
   "source": [
    "!ls -lh"
   ]
  },
  {
   "cell_type": "code",
   "execution_count": 19,
   "metadata": {},
   "outputs": [],
   "source": [
    "del res"
   ]
  },
  {
   "cell_type": "code",
   "execution_count": 20,
   "metadata": {},
   "outputs": [],
   "source": [
    "del p"
   ]
  },
  {
   "cell_type": "code",
   "execution_count": null,
   "metadata": {},
   "outputs": [],
   "source": []
  }
 ],
 "metadata": {
  "kernelspec": {
   "display_name": "Python 3",
   "language": "python",
   "name": "python3"
  },
  "language_info": {
   "codemirror_mode": {
    "name": "ipython",
    "version": 3
   },
   "file_extension": ".py",
   "mimetype": "text/x-python",
   "name": "python",
   "nbconvert_exporter": "python",
   "pygments_lexer": "ipython3",
   "version": "3.7.3"
  }
 },
 "nbformat": 4,
 "nbformat_minor": 2
}
