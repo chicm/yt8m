{
 "cells": [
  {
   "cell_type": "code",
   "execution_count": 3,
   "metadata": {},
   "outputs": [],
   "source": [
    "import os\n",
    "import os.path as osp\n",
    "import pandas as pd\n",
    "import numpy as np\n",
    "import tensorflow as tf\n",
    "tf.enable_eager_execution()"
   ]
  },
  {
   "cell_type": "code",
   "execution_count": 4,
   "metadata": {},
   "outputs": [],
   "source": [
    "DATA_DIR = '../../../kgdata'"
   ]
  },
  {
   "cell_type": "code",
   "execution_count": 5,
   "metadata": {},
   "outputs": [
    {
     "name": "stdout",
     "output_type": "stream",
     "text": [
      "frame\t\t  sample_submission.csv  validate-sample.zip\r\n",
      "frame-sample.zip  validate\t\t vocabulary.csv\r\n"
     ]
    }
   ],
   "source": [
    "!ls $DATA_DIR"
   ]
  },
  {
   "cell_type": "code",
   "execution_count": 4,
   "metadata": {},
   "outputs": [
    {
     "data": {
      "text/html": [
       "<div>\n",
       "<style scoped>\n",
       "    .dataframe tbody tr th:only-of-type {\n",
       "        vertical-align: middle;\n",
       "    }\n",
       "\n",
       "    .dataframe tbody tr th {\n",
       "        vertical-align: top;\n",
       "    }\n",
       "\n",
       "    .dataframe thead th {\n",
       "        text-align: right;\n",
       "    }\n",
       "</style>\n",
       "<table border=\"1\" class=\"dataframe\">\n",
       "  <thead>\n",
       "    <tr style=\"text-align: right;\">\n",
       "      <th></th>\n",
       "      <th>Class</th>\n",
       "      <th>Segments</th>\n",
       "    </tr>\n",
       "  </thead>\n",
       "  <tbody>\n",
       "    <tr>\n",
       "      <th>0</th>\n",
       "      <td>3</td>\n",
       "      <td>002G:35 002G:40 002G:60</td>\n",
       "    </tr>\n",
       "    <tr>\n",
       "      <th>1</th>\n",
       "      <td>7</td>\n",
       "      <td>002G:35 002G:40 002G:60</td>\n",
       "    </tr>\n",
       "    <tr>\n",
       "      <th>2</th>\n",
       "      <td>8</td>\n",
       "      <td>002G:35 002G:40 002G:60</td>\n",
       "    </tr>\n",
       "    <tr>\n",
       "      <th>3</th>\n",
       "      <td>11</td>\n",
       "      <td>002G:35 002G:40 002G:60</td>\n",
       "    </tr>\n",
       "    <tr>\n",
       "      <th>4</th>\n",
       "      <td>12</td>\n",
       "      <td>002G:35 002G:40 002G:60</td>\n",
       "    </tr>\n",
       "  </tbody>\n",
       "</table>\n",
       "</div>"
      ],
      "text/plain": [
       "   Class                 Segments\n",
       "0      3  002G:35 002G:40 002G:60\n",
       "1      7  002G:35 002G:40 002G:60\n",
       "2      8  002G:35 002G:40 002G:60\n",
       "3     11  002G:35 002G:40 002G:60\n",
       "4     12  002G:35 002G:40 002G:60"
      ]
     },
     "execution_count": 4,
     "metadata": {},
     "output_type": "execute_result"
    }
   ],
   "source": [
    "df_sub = pd.read_csv(osp.join(DATA_DIR, 'sample_submission.csv'))\n",
    "df_sub.head()"
   ]
  },
  {
   "cell_type": "code",
   "execution_count": 5,
   "metadata": {},
   "outputs": [
    {
     "data": {
      "text/plain": [
       "1000"
      ]
     },
     "execution_count": 5,
     "metadata": {},
     "output_type": "execute_result"
    }
   ],
   "source": [
    "len(df_sub.Class.unique())"
   ]
  },
  {
   "cell_type": "code",
   "execution_count": 43,
   "metadata": {},
   "outputs": [
    {
     "data": {
      "text/plain": [
       "True"
      ]
     },
     "execution_count": 43,
     "metadata": {},
     "output_type": "execute_result"
    }
   ],
   "source": [
    "0 in df_sub.Class"
   ]
  },
  {
   "cell_type": "code",
   "execution_count": 12,
   "metadata": {},
   "outputs": [
    {
     "data": {
      "text/html": [
       "<div>\n",
       "<style scoped>\n",
       "    .dataframe tbody tr th:only-of-type {\n",
       "        vertical-align: middle;\n",
       "    }\n",
       "\n",
       "    .dataframe tbody tr th {\n",
       "        vertical-align: top;\n",
       "    }\n",
       "\n",
       "    .dataframe thead th {\n",
       "        text-align: right;\n",
       "    }\n",
       "</style>\n",
       "<table border=\"1\" class=\"dataframe\">\n",
       "  <thead>\n",
       "    <tr style=\"text-align: right;\">\n",
       "      <th></th>\n",
       "      <th>Index</th>\n",
       "      <th>TrainVideoCount</th>\n",
       "      <th>KnowledgeGraphId</th>\n",
       "      <th>Name</th>\n",
       "      <th>WikiUrl</th>\n",
       "      <th>Vertical1</th>\n",
       "      <th>Vertical2</th>\n",
       "      <th>Vertical3</th>\n",
       "      <th>WikiDescription</th>\n",
       "    </tr>\n",
       "  </thead>\n",
       "  <tbody>\n",
       "    <tr>\n",
       "      <th>0</th>\n",
       "      <td>3</td>\n",
       "      <td>378135</td>\n",
       "      <td>/m/01jddz</td>\n",
       "      <td>Concert</td>\n",
       "      <td>https://en.wikipedia.org/wiki/Concert</td>\n",
       "      <td>Arts &amp; Entertainment</td>\n",
       "      <td>NaN</td>\n",
       "      <td>NaN</td>\n",
       "      <td>A concert is a live music performance in front...</td>\n",
       "    </tr>\n",
       "    <tr>\n",
       "      <th>1</th>\n",
       "      <td>7</td>\n",
       "      <td>200813</td>\n",
       "      <td>/m/0k4j</td>\n",
       "      <td>Car</td>\n",
       "      <td>https://en.wikipedia.org/wiki/Car</td>\n",
       "      <td>Autos &amp; Vehicles</td>\n",
       "      <td>NaN</td>\n",
       "      <td>NaN</td>\n",
       "      <td>A car is a wheeled, self-powered motor vehicle...</td>\n",
       "    </tr>\n",
       "    <tr>\n",
       "      <th>2</th>\n",
       "      <td>8</td>\n",
       "      <td>181579</td>\n",
       "      <td>/m/026bk</td>\n",
       "      <td>Dance</td>\n",
       "      <td>https://en.wikipedia.org/wiki/Dance</td>\n",
       "      <td>Arts &amp; Entertainment</td>\n",
       "      <td>NaN</td>\n",
       "      <td>NaN</td>\n",
       "      <td>Dance is a performance art form consisting of ...</td>\n",
       "    </tr>\n",
       "    <tr>\n",
       "      <th>3</th>\n",
       "      <td>11</td>\n",
       "      <td>135357</td>\n",
       "      <td>/m/02wbm</td>\n",
       "      <td>Food</td>\n",
       "      <td>https://en.wikipedia.org/wiki/Food</td>\n",
       "      <td>Food &amp; Drink</td>\n",
       "      <td>NaN</td>\n",
       "      <td>NaN</td>\n",
       "      <td>Food is any substance consumed to provide nutr...</td>\n",
       "    </tr>\n",
       "    <tr>\n",
       "      <th>4</th>\n",
       "      <td>12</td>\n",
       "      <td>130835</td>\n",
       "      <td>/m/02vx4</td>\n",
       "      <td>Association football</td>\n",
       "      <td>https://en.wikipedia.org/wiki/Association_foot...</td>\n",
       "      <td>Sports</td>\n",
       "      <td>NaN</td>\n",
       "      <td>NaN</td>\n",
       "      <td>Association football, more commonly known as f...</td>\n",
       "    </tr>\n",
       "  </tbody>\n",
       "</table>\n",
       "</div>"
      ],
      "text/plain": [
       "   Index  TrainVideoCount KnowledgeGraphId                  Name  \\\n",
       "0      3           378135        /m/01jddz               Concert   \n",
       "1      7           200813          /m/0k4j                   Car   \n",
       "2      8           181579         /m/026bk                 Dance   \n",
       "3     11           135357         /m/02wbm                  Food   \n",
       "4     12           130835         /m/02vx4  Association football   \n",
       "\n",
       "                                             WikiUrl             Vertical1  \\\n",
       "0              https://en.wikipedia.org/wiki/Concert  Arts & Entertainment   \n",
       "1                  https://en.wikipedia.org/wiki/Car      Autos & Vehicles   \n",
       "2                https://en.wikipedia.org/wiki/Dance  Arts & Entertainment   \n",
       "3                 https://en.wikipedia.org/wiki/Food          Food & Drink   \n",
       "4  https://en.wikipedia.org/wiki/Association_foot...                Sports   \n",
       "\n",
       "  Vertical2 Vertical3                                    WikiDescription  \n",
       "0       NaN       NaN  A concert is a live music performance in front...  \n",
       "1       NaN       NaN  A car is a wheeled, self-powered motor vehicle...  \n",
       "2       NaN       NaN  Dance is a performance art form consisting of ...  \n",
       "3       NaN       NaN  Food is any substance consumed to provide nutr...  \n",
       "4       NaN       NaN  Association football, more commonly known as f...  "
      ]
     },
     "execution_count": 12,
     "metadata": {},
     "output_type": "execute_result"
    }
   ],
   "source": [
    "vocab = pd.read_csv(osp.join(DATA_DIR, 'vocabulary.csv'))\n",
    "vocab.head()"
   ]
  },
  {
   "cell_type": "code",
   "execution_count": 13,
   "metadata": {},
   "outputs": [
    {
     "data": {
      "text/plain": [
       "1000"
      ]
     },
     "execution_count": 13,
     "metadata": {},
     "output_type": "execute_result"
    }
   ],
   "source": [
    "len(vocab.Index.unique())"
   ]
  },
  {
   "cell_type": "markdown",
   "metadata": {},
   "source": [
    "# video level info"
   ]
  },
  {
   "cell_type": "code",
   "execution_count": 6,
   "metadata": {},
   "outputs": [],
   "source": [
    "frame_lvl_record = osp.join(DATA_DIR, \"frame/train00.tfrecord\")"
   ]
  },
  {
   "cell_type": "code",
   "execution_count": 15,
   "metadata": {},
   "outputs": [
    {
     "name": "stdout",
     "output_type": "stream",
     "text": [
      "WARNING:tensorflow:From <ipython-input-15-5a77d93957a5>:4: tf_record_iterator (from tensorflow.python.lib.io.tf_record) is deprecated and will be removed in a future version.\n",
      "Instructions for updating:\n",
      "Use eager execution and: \n",
      "`tf.data.TFRecordDataset(path)`\n"
     ]
    }
   ],
   "source": [
    "vid_ids = []\n",
    "labels = []\n",
    "\n",
    "for example in tf.python_io.tf_record_iterator(frame_lvl_record):\n",
    "    tf_example = tf.train.Example.FromString(example)\n",
    "    vid_ids.append(tf_example.features.feature['id']\n",
    "                   .bytes_list.value[0].decode(encoding='UTF-8'))\n",
    "    labels.append(tf_example.features.feature['labels'].int64_list.value)"
   ]
  },
  {
   "cell_type": "code",
   "execution_count": 7,
   "metadata": {},
   "outputs": [
    {
     "name": "stdout",
     "output_type": "stream",
     "text": [
      "WARNING:tensorflow:From <ipython-input-7-5a77d93957a5>:4: tf_record_iterator (from tensorflow.python.lib.io.tf_record) is deprecated and will be removed in a future version.\n",
      "Instructions for updating:\n",
      "Use eager execution and: \n",
      "`tf.data.TFRecordDataset(path)`\n"
     ]
    }
   ],
   "source": [
    "vid_ids = []\n",
    "labels = []\n",
    "\n",
    "for example in tf.python_io.tf_record_iterator(frame_lvl_record):\n",
    "    tf_example = tf.train.Example.FromString(example)\n",
    "    vid_ids.append(tf_example.features.feature['id']\n",
    "                   .bytes_list.value[0].decode(encoding='UTF-8'))\n",
    "    labels.append(tf_example.features.feature['labels'].int64_list.value)"
   ]
  },
  {
   "cell_type": "code",
   "execution_count": 8,
   "metadata": {},
   "outputs": [
    {
     "name": "stdout",
     "output_type": "stream",
     "text": [
      "1015 1015\n"
     ]
    }
   ],
   "source": [
    "print(len(vid_ids), len(labels))"
   ]
  },
  {
   "cell_type": "code",
   "execution_count": 9,
   "metadata": {},
   "outputs": [
    {
     "data": {
      "text/plain": [
       "[82, 103, 346, 350]"
      ]
     },
     "execution_count": 9,
     "metadata": {},
     "output_type": "execute_result"
    }
   ],
   "source": [
    "labels[0]"
   ]
  },
  {
   "cell_type": "code",
   "execution_count": 10,
   "metadata": {},
   "outputs": [
    {
     "data": {
      "text/plain": [
       "'op00'"
      ]
     },
     "execution_count": 10,
     "metadata": {},
     "output_type": "execute_result"
    }
   ],
   "source": [
    "vid_ids[0]"
   ]
  },
  {
   "cell_type": "markdown",
   "metadata": {},
   "source": [
    "# Frame level data"
   ]
  },
  {
   "cell_type": "code",
   "execution_count": 14,
   "metadata": {},
   "outputs": [
    {
     "ename": "SyntaxError",
     "evalue": "invalid syntax (<ipython-input-14-8cb1dba0600e>, line 18)",
     "output_type": "error",
     "traceback": [
      "\u001b[0;36m  File \u001b[0;32m\"<ipython-input-14-8cb1dba0600e>\"\u001b[0;36m, line \u001b[0;32m18\u001b[0m\n\u001b[0;31m    ,tf.float32)).eval())\u001b[0m\n\u001b[0m                        ^\u001b[0m\n\u001b[0;31mSyntaxError\u001b[0m\u001b[0;31m:\u001b[0m invalid syntax\n"
     ]
    }
   ],
   "source": [
    "feat_rgb = []\n",
    "feat_audio = []\n",
    "\n",
    "for example in tf.python_io.tf_record_iterator(frame_lvl_record):\n",
    "    tf_seq_example = tf.train.SequenceExample.FromString(example)\n",
    "    #print(tf_seq_example)\n",
    "    #break\n",
    "    n_frames = len(tf_seq_example.feature_lists.feature_list['audio'].feature)\n",
    "    print(type(tf_seq_example.feature_lists.feature_list.keys()))\n",
    "    sess = tf.InteractiveSession()\n",
    "    rgb_frame = []\n",
    "    audio_frame = []\n",
    "    # iterate through frames\n",
    "    for i in range(n_frames):\n",
    "        rgb_frame.append(tf.cast(tf.decode_raw(\n",
    "                tf_seq_example.feature_lists.feature_list['rgb']\n",
    "                  .feature[i].bytes_list.value[0],tf.uint8)\n",
    "                       ,tf.float32)).eval())\n",
    "        audio_frame.append(tf.cast(tf.decode_raw(\n",
    "                tf_seq_example.feature_lists.feature_list['audio']\n",
    "                  .feature[i].bytes_list.value[0],tf.uint8)\n",
    "                       ,tf.float32)).eval())\n",
    "        \n",
    "        \n",
    "    sess.close()\n",
    "    \n",
    "    feat_audio.append(audio_frame)\n",
    "    feat_rgb.append(rgb_frame)\n",
    "    break"
   ]
  },
  {
   "cell_type": "code",
   "execution_count": 19,
   "metadata": {},
   "outputs": [
    {
     "name": "stdout",
     "output_type": "stream",
     "text": [
      "<class 'collections.abc.KeysView'>\n"
     ]
    }
   ],
   "source": [
    "feat_rgb = []\n",
    "feat_audio = []\n",
    "\n",
    "for example in tf.python_io.tf_record_iterator(frame_lvl_record):\n",
    "    tf_seq_example = tf.train.SequenceExample.FromString(example)\n",
    "    #print(tf_seq_example)\n",
    "    #break\n",
    "    n_frames = len(tf_seq_example.feature_lists.feature_list['audio'].feature)\n",
    "    print(type(tf_seq_example.feature_lists.feature_list.keys()))\n",
    "    sess = tf.InteractiveSession()\n",
    "    rgb_frame = []\n",
    "    audio_frame = []\n",
    "    # iterate through frames\n",
    "    for i in range(n_frames):\n",
    "        rgb_frame.append(tf.decode_raw(\n",
    "                tf_seq_example.feature_lists.feature_list['rgb']\n",
    "                  .feature[i].bytes_list.value[0],tf.uint8).numpy().astype(np.float32))\n",
    "        audio_frame.append(tf.decode_raw(\n",
    "                tf_seq_example.feature_lists.feature_list['audio']\n",
    "                  .feature[i].bytes_list.value[0],tf.uint8).numpy().astype(np.float32))\n",
    "        \n",
    "        \n",
    "    sess.close()\n",
    "    \n",
    "    feat_audio.append(audio_frame)\n",
    "    feat_rgb.append(rgb_frame)\n",
    "    break"
   ]
  },
  {
   "cell_type": "code",
   "execution_count": 20,
   "metadata": {},
   "outputs": [
    {
     "data": {
      "text/plain": [
       "[array([179., 158., 143., ...,  14., 135., 123.], dtype=float32),\n",
       " array([201., 141., 141., ...,  49., 134.,  73.], dtype=float32),\n",
       " array([138., 169., 115., ...,  35., 215., 103.], dtype=float32),\n",
       " array([133., 173., 123., ...,  93., 152., 113.], dtype=float32),\n",
       " array([183., 165., 113., ...,  87., 180., 142.], dtype=float32),\n",
       " array([169., 112., 128., ..., 223., 255., 219.], dtype=float32),\n",
       " array([182., 143., 144., ..., 145., 126., 149.], dtype=float32),\n",
       " array([174., 141., 143., ..., 135., 149., 120.], dtype=float32),\n",
       " array([156., 161., 129., ..., 143., 181.,  89.], dtype=float32),\n",
       " array([146., 162., 120., ...,   0., 156.,  65.], dtype=float32),\n",
       " array([226., 143., 149., ...,  48., 223., 105.], dtype=float32),\n",
       " array([183., 145., 160., ..., 118., 171.,  99.], dtype=float32),\n",
       " array([153., 163., 143., ..., 148.,   9., 184.], dtype=float32),\n",
       " array([143., 157., 150., ..., 255.,   0.,  30.], dtype=float32),\n",
       " array([192., 135., 173., ..., 117.,   0., 120.], dtype=float32),\n",
       " array([152., 119., 125., ..., 165., 156., 109.], dtype=float32),\n",
       " array([190., 121., 186., ..., 103.,  54.,  42.], dtype=float32),\n",
       " array([197., 142., 149., ..., 234.,  58.,  83.], dtype=float32),\n",
       " array([136., 159., 132., ..., 186., 113.,  62.], dtype=float32),\n",
       " array([168., 162., 144., ...,   0., 221., 141.], dtype=float32),\n",
       " array([162., 157., 132., ..., 101., 225., 157.], dtype=float32),\n",
       " array([225., 120., 145., ..., 244.,  78., 149.], dtype=float32),\n",
       " array([208., 174., 128., ...,  68., 130.,  49.], dtype=float32),\n",
       " array([211., 115., 137., ...,  92.,  44., 172.], dtype=float32),\n",
       " array([152., 159., 132., ..., 192., 153., 150.], dtype=float32),\n",
       " array([157., 154., 104., ...,  69.,  84., 152.], dtype=float32),\n",
       " array([140., 139., 132., ..., 237., 136., 114.], dtype=float32),\n",
       " array([150., 148., 158., ..., 134., 191., 133.], dtype=float32),\n",
       " array([195., 120., 156., ..., 192.,  32.,  99.], dtype=float32),\n",
       " array([170., 141., 127., ...,  65.,  67., 114.], dtype=float32),\n",
       " array([ 97., 171., 123., ...,  41., 170.,   9.], dtype=float32),\n",
       " array([ 76., 190., 110., ...,  99.,  87.,  11.], dtype=float32),\n",
       " array([163., 148., 138., ..., 158., 222., 103.], dtype=float32),\n",
       " array([131., 161., 137., ..., 116., 105.,  27.], dtype=float32),\n",
       " array([ 97., 168., 133., ..., 111.,  91.,   0.], dtype=float32),\n",
       " array([168., 157., 160., ..., 220.,  76.,  84.], dtype=float32),\n",
       " array([195., 127., 123., ...,  92., 124.,  89.], dtype=float32),\n",
       " array([134., 153.,  98., ..., 164., 185.,  88.], dtype=float32),\n",
       " array([153., 159., 128., ..., 131.,  52.,  37.], dtype=float32),\n",
       " array([202., 151., 130., ...,  98., 120.,  42.], dtype=float32),\n",
       " array([129., 177., 144., ..., 132., 140.,  89.], dtype=float32),\n",
       " array([162., 167., 143., ..., 108., 174.,  28.], dtype=float32),\n",
       " array([150., 167., 132., ...,  86., 151.,  48.], dtype=float32),\n",
       " array([131., 155., 102., ...,  86., 151.,  93.], dtype=float32),\n",
       " array([112., 167.,  98., ..., 132., 123.,  19.], dtype=float32),\n",
       " array([115., 169., 113., ..., 157., 136.,  31.], dtype=float32),\n",
       " array([ 92., 187., 124., ...,  83., 159., 105.], dtype=float32),\n",
       " array([119., 169., 119., ...,  98., 171., 122.], dtype=float32),\n",
       " array([111., 183., 121., ..., 120., 145.,  81.], dtype=float32),\n",
       " array([110., 154., 140., ...,  82., 101.,   0.], dtype=float32),\n",
       " array([139., 166., 135., ..., 131., 188.,  25.], dtype=float32),\n",
       " array([125., 143., 124., ..., 117., 112.,  46.], dtype=float32),\n",
       " array([182., 146., 140., ..., 219., 128., 105.], dtype=float32),\n",
       " array([117., 166., 126., ..., 135., 177.,  97.], dtype=float32),\n",
       " array([133., 159., 139., ..., 110., 185.,  23.], dtype=float32),\n",
       " array([145., 170., 114., ..., 184., 173., 107.], dtype=float32),\n",
       " array([116., 186., 117., ..., 111., 164.,  68.], dtype=float32),\n",
       " array([159., 161., 103., ..., 144., 192.,  35.], dtype=float32),\n",
       " array([140., 142., 109., ..., 193., 123.,  96.], dtype=float32),\n",
       " array([170., 118., 132., ..., 131., 194.,   3.], dtype=float32),\n",
       " array([164., 124., 124., ..., 155., 118., 142.], dtype=float32),\n",
       " array([160., 123., 151., ...,  91., 106., 230.], dtype=float32),\n",
       " array([213., 115., 150., ...,  77., 157.,  44.], dtype=float32),\n",
       " array([227., 131., 170., ..., 112.,  51.,  59.], dtype=float32),\n",
       " array([126., 151., 140., ..., 160., 175.,  58.], dtype=float32),\n",
       " array([124., 155., 123., ..., 139., 163., 123.], dtype=float32),\n",
       " array([167.,  76.,  88., ...,  15., 220.,  98.], dtype=float32),\n",
       " array([123., 157.,  97., ..., 149., 142., 153.], dtype=float32),\n",
       " array([185., 145., 111., ..., 142., 154., 121.], dtype=float32),\n",
       " array([152., 136., 102., ...,  98., 146., 101.], dtype=float32),\n",
       " array([112., 160., 109., ..., 165., 166.,  62.], dtype=float32),\n",
       " array([151., 137., 103., ..., 159., 153.,  76.], dtype=float32),\n",
       " array([117., 159.,  92., ...,  72., 134., 111.], dtype=float32),\n",
       " array([192., 133., 149., ..., 123., 159.,  43.], dtype=float32),\n",
       " array([210., 122., 164., ...,  55.,  87., 151.], dtype=float32),\n",
       " array([133., 147., 109., ...,   0., 113.,  76.], dtype=float32),\n",
       " array([148., 135., 124., ..., 162.,  63.,  90.], dtype=float32),\n",
       " array([175., 133., 112., ..., 166., 180.,  15.], dtype=float32),\n",
       " array([192., 102.,  83., ...,  10., 149.,  58.], dtype=float32),\n",
       " array([180., 145., 117., ..., 235., 133.,  31.], dtype=float32),\n",
       " array([101., 170., 116., ..., 180., 135.,  95.], dtype=float32),\n",
       " array([226., 140., 136., ..., 203., 162., 131.], dtype=float32),\n",
       " array([133., 176., 108., ..., 153., 126.,  53.], dtype=float32),\n",
       " array([136., 159., 137., ..., 188.,  99.,  70.], dtype=float32),\n",
       " array([150., 138., 121., ..., 139., 168.,  70.], dtype=float32),\n",
       " array([142., 130., 115., ...,  90., 142.,  57.], dtype=float32),\n",
       " array([127., 167., 129., ..., 174., 137.,  72.], dtype=float32),\n",
       " array([135., 168., 147., ...,  92., 207.,  93.], dtype=float32),\n",
       " array([155., 154., 139., ...,  65., 126., 105.], dtype=float32),\n",
       " array([155., 124., 144., ..., 140., 204.,  45.], dtype=float32),\n",
       " array([153., 140., 187., ..., 124., 143.,  13.], dtype=float32),\n",
       " array([124., 146., 172., ..., 147., 144.,  12.], dtype=float32),\n",
       " array([142., 141., 189., ..., 189.,  81.,   0.], dtype=float32),\n",
       " array([183., 128., 208., ..., 185., 167.,  43.], dtype=float32),\n",
       " array([110., 157., 161., ..., 165.,  56.,  31.], dtype=float32),\n",
       " array([166., 137., 204., ..., 183., 163.,  38.], dtype=float32),\n",
       " array([145., 138., 170., ..., 182., 163.,  75.], dtype=float32),\n",
       " array([142., 149., 162., ..., 165.,  97.,  64.], dtype=float32),\n",
       " array([136., 153., 136., ..., 190.,  49.,  88.], dtype=float32),\n",
       " array([147., 143., 114., ..., 124., 138.,  60.], dtype=float32),\n",
       " array([168., 144., 126., ..., 222.,  71., 128.], dtype=float32),\n",
       " array([166., 142., 126., ...,  85., 146.,  89.], dtype=float32),\n",
       " array([191., 156., 111., ..., 127.,  53.,  80.], dtype=float32),\n",
       " array([165., 143., 159., ...,  95., 241.,  57.], dtype=float32),\n",
       " array([109., 152., 134., ...,  79., 195.,  58.], dtype=float32),\n",
       " array([168., 144., 163., ...,  54., 148.,   0.], dtype=float32),\n",
       " array([255., 111., 114., ...,  85.,  74.,  62.], dtype=float32),\n",
       " array([138., 152.,  99., ..., 100.,  56.,  96.], dtype=float32),\n",
       " array([ 92., 155., 126., ..., 130.,  56.,  83.], dtype=float32),\n",
       " array([149., 146., 139., ...,  84.,  88., 123.], dtype=float32),\n",
       " array([203.,  90., 106., ..., 211., 133., 105.], dtype=float32),\n",
       " array([195.,  95., 131., ..., 195.,  46.,  54.], dtype=float32),\n",
       " array([178., 110., 121., ..., 132.,  42.,  50.], dtype=float32),\n",
       " array([153., 151., 156., ..., 162., 148., 172.], dtype=float32),\n",
       " array([ 76., 173., 110., ..., 108., 102.,  46.], dtype=float32),\n",
       " array([ 96., 177., 115., ..., 136., 157.,  73.], dtype=float32),\n",
       " array([170., 116., 141., ...,  42., 129., 168.], dtype=float32),\n",
       " array([176., 136., 155., ...,  56., 142.,  80.], dtype=float32),\n",
       " array([135., 163., 127., ..., 153., 129.,  56.], dtype=float32),\n",
       " array([123., 163., 134., ..., 168., 239.,  98.], dtype=float32),\n",
       " array([146., 158., 135., ..., 142., 147.,  78.], dtype=float32),\n",
       " array([110., 150., 111., ..., 130.,  98.,  46.], dtype=float32),\n",
       " array([115., 162., 149., ..., 149.,  50.,  23.], dtype=float32),\n",
       " array([193., 132., 131., ...,  82., 186.,  22.], dtype=float32),\n",
       " array([156., 144., 137., ...,  65., 174., 112.], dtype=float32),\n",
       " array([191., 122., 136., ..., 113., 222.,  14.], dtype=float32),\n",
       " array([153., 168., 121., ...,  76.,  40., 185.], dtype=float32),\n",
       " array([189., 149., 121., ...,  92., 145., 194.], dtype=float32),\n",
       " array([198., 147., 131., ...,  23., 132., 166.], dtype=float32),\n",
       " array([166., 145., 120., ...,  92., 135.,  65.], dtype=float32),\n",
       " array([112., 163., 128., ...,  72., 183.,  40.], dtype=float32),\n",
       " array([160., 157., 142., ...,  67.,  81., 165.], dtype=float32),\n",
       " array([145., 132., 121., ..., 142., 138.,  87.], dtype=float32),\n",
       " array([122., 147., 114., ..., 207., 158.,  49.], dtype=float32),\n",
       " array([169., 137., 139., ...,  73., 169.,  22.], dtype=float32),\n",
       " array([218., 112., 163., ..., 101.,  50., 127.], dtype=float32),\n",
       " array([163., 146., 110., ..., 104., 111.,  94.], dtype=float32),\n",
       " array([170., 144., 115., ..., 120., 108.,  31.], dtype=float32),\n",
       " array([179., 165., 130., ...,  10., 168.,  53.], dtype=float32),\n",
       " array([135., 142., 129., ..., 135., 113., 139.], dtype=float32),\n",
       " array([165., 142., 136., ..., 159., 114.,  75.], dtype=float32),\n",
       " array([165., 118., 117., ..., 169., 142.,  77.], dtype=float32),\n",
       " array([129., 145., 146., ...,  81.,  92.,  94.], dtype=float32),\n",
       " array([109., 149., 107., ...,  80., 108., 168.], dtype=float32),\n",
       " array([144., 143., 153., ..., 224., 174., 160.], dtype=float32),\n",
       " array([181., 133., 144., ..., 166., 213.,  87.], dtype=float32),\n",
       " array([174., 144., 129., ...,  34., 108., 146.], dtype=float32),\n",
       " array([130., 164., 116., ..., 134., 138.,  67.], dtype=float32),\n",
       " array([239., 109.,  73., ..., 102., 170., 190.], dtype=float32),\n",
       " array([172., 138., 103., ...,  94., 142.,  13.], dtype=float32),\n",
       " array([160., 147., 131., ..., 211.,  72.,  90.], dtype=float32),\n",
       " array([154., 124.,  97., ..., 136., 108.,  84.], dtype=float32),\n",
       " array([181., 135., 109., ..., 160., 143.,  99.], dtype=float32),\n",
       " array([192., 123., 145., ...,   0.,  80.,  81.], dtype=float32),\n",
       " array([167., 173., 137., ...,   0.,  78., 118.], dtype=float32),\n",
       " array([198., 159., 100., ...,  76., 153., 224.], dtype=float32),\n",
       " array([159., 162., 102., ..., 128., 176., 125.], dtype=float32),\n",
       " array([186., 158., 106., ...,   0., 153.,   0.], dtype=float32),\n",
       " array([187., 166., 133., ..., 123., 196.,  31.], dtype=float32),\n",
       " array([119., 179., 115., ...,  67., 117., 154.], dtype=float32),\n",
       " array([145., 139., 120., ..., 100.,  96.,  48.], dtype=float32),\n",
       " array([ 76., 180., 120., ..., 105., 162.,  68.], dtype=float32),\n",
       " array([165., 148., 135., ..., 133., 103.,  80.], dtype=float32),\n",
       " array([144., 171., 138., ..., 141., 175.,  56.], dtype=float32),\n",
       " array([124., 157., 127., ..., 131., 146., 141.], dtype=float32),\n",
       " array([154., 157.,  93., ..., 136.,  71., 249.], dtype=float32),\n",
       " array([127., 140.,  92., ..., 132., 129., 213.], dtype=float32),\n",
       " array([177., 128., 138., ...,  26.,  56., 139.], dtype=float32),\n",
       " array([204., 144.,  93., ...,  79., 140., 201.], dtype=float32),\n",
       " array([104., 163., 134., ..., 122.,  31., 194.], dtype=float32),\n",
       " array([134., 152., 127., ..., 225.,   0.,  60.], dtype=float32),\n",
       " array([141., 170., 136., ..., 178.,   0.,  85.], dtype=float32),\n",
       " array([144., 153., 127., ..., 135., 140., 134.], dtype=float32),\n",
       " array([156., 139.,  97., ..., 208.,  99.,  48.], dtype=float32),\n",
       " array([130., 144., 136., ..., 154.,  80.,  55.], dtype=float32),\n",
       " array([136., 145., 134., ...,  82., 180.,  55.], dtype=float32),\n",
       " array([166., 170.,  97., ..., 202., 137.,  98.], dtype=float32),\n",
       " array([188., 117., 116., ..., 192., 166.,  88.], dtype=float32),\n",
       " array([167., 148., 134., ..., 146., 125., 144.], dtype=float32),\n",
       " array([221., 127.,  88., ..., 164.,  81.,  48.], dtype=float32),\n",
       " array([105., 182., 104., ..., 121., 114., 173.], dtype=float32),\n",
       " array([130., 134.,  86., ..., 204.,  75., 141.], dtype=float32),\n",
       " array([124., 162., 101., ..., 159., 129., 145.], dtype=float32),\n",
       " array([153., 153., 105., ..., 109., 151.,  92.], dtype=float32),\n",
       " array([151., 173.,  95., ...,  87., 141.,  86.], dtype=float32),\n",
       " array([163., 155., 112., ..., 133., 174., 108.], dtype=float32),\n",
       " array([191., 134., 145., ..., 104., 165.,  22.], dtype=float32),\n",
       " array([129., 164., 133., ..., 150., 238.,  62.], dtype=float32),\n",
       " array([142., 152., 126., ..., 128., 163.,  35.], dtype=float32),\n",
       " array([149., 170., 150., ..., 142., 255.,   7.], dtype=float32),\n",
       " array([103., 183., 126., ...,  66.,  88.,  50.], dtype=float32),\n",
       " array([145., 173., 151., ..., 182., 128.,  82.], dtype=float32),\n",
       " array([164., 162., 134., ..., 121.,  62.,  70.], dtype=float32),\n",
       " array([167., 148., 156., ..., 212.,  33., 114.], dtype=float32),\n",
       " array([120., 169., 144., ...,  87., 105.,   0.], dtype=float32),\n",
       " array([161., 136., 141., ..., 218., 196.,  86.], dtype=float32),\n",
       " array([169., 149., 116., ..., 196., 251.,  70.], dtype=float32),\n",
       " array([176., 136., 163., ..., 127.,   0.,  63.], dtype=float32),\n",
       " array([175., 146., 123., ..., 156., 120.,  43.], dtype=float32),\n",
       " array([161., 152., 120., ..., 153., 215.,  70.], dtype=float32),\n",
       " array([193., 153., 151., ..., 129., 115.,  54.], dtype=float32),\n",
       " array([144., 156., 138., ..., 102., 180.,   5.], dtype=float32),\n",
       " array([172., 161., 150., ..., 141., 130., 116.], dtype=float32),\n",
       " array([168., 149., 135., ..., 135., 112.,  89.], dtype=float32),\n",
       " array([154., 154., 132., ..., 179., 116.,  92.], dtype=float32),\n",
       " array([152., 147., 152., ...,  82.,  90.,  53.], dtype=float32),\n",
       " array([171., 143., 108., ..., 152.,  73., 121.], dtype=float32),\n",
       " array([129., 142., 132., ..., 160., 199.,   0.], dtype=float32),\n",
       " array([136., 176., 124., ..., 133., 119., 105.], dtype=float32),\n",
       " array([151., 169., 112., ..., 216., 139., 134.], dtype=float32),\n",
       " array([134., 175., 134., ..., 160., 159.,  68.], dtype=float32),\n",
       " array([190., 154., 119., ..., 178., 136., 127.], dtype=float32),\n",
       " array([163., 127., 122., ..., 164., 112.,  66.], dtype=float32),\n",
       " array([210., 139., 121., ..., 255., 100.,  27.], dtype=float32),\n",
       " array([137., 166., 115., ..., 166.,  71.,  93.], dtype=float32),\n",
       " array([131., 170., 123., ..., 172., 147., 103.], dtype=float32),\n",
       " array([133., 162., 121., ..., 172.,  92.,  29.], dtype=float32),\n",
       " array([ 87., 169., 133., ..., 132., 138.,  50.], dtype=float32),\n",
       " array([183., 134., 135., ..., 132., 108.,  26.], dtype=float32),\n",
       " array([ 94., 165., 138., ..., 135., 140.,  42.], dtype=float32),\n",
       " array([128., 166., 150., ..., 139., 149., 133.], dtype=float32),\n",
       " array([178., 144., 125., ..., 181.,  37., 184.], dtype=float32),\n",
       " array([146., 147., 132., ..., 145., 140., 168.], dtype=float32),\n",
       " array([194., 151., 132., ...,  98.,  67., 109.], dtype=float32),\n",
       " array([174., 150., 157., ...,  90.,   0., 107.], dtype=float32),\n",
       " array([137., 144., 111., ...,   0., 242.,  47.], dtype=float32),\n",
       " array([156., 168., 115., ..., 124.,  70.,  84.], dtype=float32),\n",
       " array([212.,  83., 149., ..., 125., 179.,  91.], dtype=float32),\n",
       " array([ 76., 175., 108., ...,  99.,  76.,   0.], dtype=float32),\n",
       " array([103., 162., 101., ...,  91.,  65., 102.], dtype=float32),\n",
       " array([203., 135., 127., ...,  84., 135., 107.], dtype=float32),\n",
       " array([133., 174.,  84., ..., 119.,  82.,  91.], dtype=float32),\n",
       " array([121., 127., 100., ...,  56., 199., 165.], dtype=float32),\n",
       " array([112., 122.,  77., ..., 141., 195., 245.], dtype=float32)]"
      ]
     },
     "execution_count": 20,
     "metadata": {},
     "output_type": "execute_result"
    }
   ],
   "source": [
    "feat_rgb[0]"
   ]
  },
  {
   "cell_type": "code",
   "execution_count": null,
   "metadata": {},
   "outputs": [],
   "source": []
  },
  {
   "cell_type": "code",
   "execution_count": 21,
   "metadata": {},
   "outputs": [],
   "source": [
    "validate_record = osp.join(DATA_DIR, \"validate/validate00.tfrecord\")\n",
    "#validate_record = '/data2/yt8m/3/frame/validate/validate0001.tfrecord'"
   ]
  },
  {
   "cell_type": "code",
   "execution_count": 22,
   "metadata": {},
   "outputs": [
    {
     "name": "stdout",
     "output_type": "stream",
     "text": [
      "{'segment_labels': int64_list {\n",
      "  value: 1036\n",
      "  value: 1036\n",
      "  value: 1036\n",
      "  value: 1036\n",
      "  value: 1036\n",
      "}\n",
      ", 'segment_scores': float_list {\n",
      "  value: 0.0\n",
      "  value: 0.0\n",
      "  value: 1.0\n",
      "  value: 0.0\n",
      "  value: 0.0\n",
      "}\n",
      ", 'segment_start_times': int64_list {\n",
      "  value: 145\n",
      "  value: 110\n",
      "  value: 135\n",
      "  value: 155\n",
      "  value: 70\n",
      "}\n",
      ", 'id': bytes_list {\n",
      "  value: \"Iv00\"\n",
      "}\n",
      ", 'segment_end_times': int64_list {\n",
      "  value: 150\n",
      "  value: 115\n",
      "  value: 140\n",
      "  value: 160\n",
      "  value: 75\n",
      "}\n",
      ", 'labels': int64_list {\n",
      "  value: 375\n",
      "  value: 1036\n",
      "  value: 1062\n",
      "}\n",
      "}\n"
     ]
    }
   ],
   "source": [
    "val_vid_ids = []\n",
    "val_vid_labels = []\n",
    "segment_start_times = []\n",
    "segment_end_times = []\n",
    "segment_labels = []\n",
    "segment_scores = []\n",
    "\n",
    "for example in tf.python_io.tf_record_iterator(validate_record):\n",
    "    tf_example = tf.train.Example.FromString(example)\n",
    "    print(tf_example.features.feature)\n",
    "    #print('1')\n",
    "    break\n",
    "    val_vid_ids.append(tf_example.features.feature['id']\n",
    "                   .bytes_list.value[0].decode(encoding='UTF-8'))\n",
    "    val_vid_labels.append(tf_example.features.feature['labels'].int64_list.value)\n",
    "    segment_start_times.append(tf_example.features.feature['segment_start_times'].int64_list.value)\n",
    "    segment_end_times.append(tf_example.features.feature['segment_end_times'].int64_list.value)\n",
    "    segment_labels.append(tf_example.features.feature['segment_labels'].int64_list.value)\n",
    "    segment_scores.append(tf_example.features.feature['segment_scores'].float_list.value)"
   ]
  },
  {
   "cell_type": "code",
   "execution_count": 36,
   "metadata": {},
   "outputs": [
    {
     "name": "stdout",
     "output_type": "stream",
     "text": [
      "Iv00\n",
      "[375, 1036, 1062]\n",
      "[145, 110, 135, 155, 70]\n",
      "[150, 115, 140, 160, 75]\n",
      "[1036, 1036, 1036, 1036, 1036]\n",
      "[0.0, 0.0, 1.0, 0.0, 0.0]\n"
     ]
    }
   ],
   "source": [
    "print(val_vid_ids[0])\n",
    "print(val_vid_labels[0])\n",
    "print(segment_start_times[0])\n",
    "print(segment_end_times[0])\n",
    "print(segment_labels[0])\n",
    "print(segment_scores[0])"
   ]
  },
  {
   "cell_type": "code",
   "execution_count": 37,
   "metadata": {},
   "outputs": [
    {
     "data": {
      "text/plain": [
       "['Iv00',\n",
       " 'ww00',\n",
       " 'Bv00',\n",
       " 'pZ00',\n",
       " 'tA00',\n",
       " 'Kt00',\n",
       " 'Y700',\n",
       " 'Hw00',\n",
       " 'wR00',\n",
       " 'nc00',\n",
       " 'JP00',\n",
       " 'Vn00',\n",
       " '9P00',\n",
       " 'r400',\n",
       " 'Qc00',\n",
       " 'B100']"
      ]
     },
     "execution_count": 37,
     "metadata": {},
     "output_type": "execute_result"
    }
   ],
   "source": [
    "val_vid_ids"
   ]
  },
  {
   "cell_type": "code",
   "execution_count": 38,
   "metadata": {},
   "outputs": [
    {
     "data": {
      "text/plain": [
       "[[1036, 1036, 1036, 1036, 1036],\n",
       " [1031, 1031, 1031, 1031, 1031],\n",
       " [666, 666, 666, 666, 666],\n",
       " [1753, 1753, 1753, 1753, 1753],\n",
       " [465, 475, 465, 465, 475, 475, 475, 465, 475, 465],\n",
       " [1672, 1672, 1672, 1672, 1672],\n",
       " [833, 833, 833, 833],\n",
       " [1400, 1400, 1400, 1400, 1400],\n",
       " [1476, 1476, 1476, 1476, 1476],\n",
       " [1342, 1342, 1342, 1342, 1342],\n",
       " [689, 689, 689, 689, 689],\n",
       " [307, 307, 307, 307, 307],\n",
       " [462, 462, 462, 462, 462],\n",
       " [452, 452, 452, 452, 452],\n",
       " [1514, 1514, 1514, 1514, 1514],\n",
       " [88, 88, 88, 88, 88]]"
      ]
     },
     "execution_count": 38,
     "metadata": {},
     "output_type": "execute_result"
    }
   ],
   "source": [
    "segment_labels"
   ]
  },
  {
   "cell_type": "code",
   "execution_count": 1,
   "metadata": {},
   "outputs": [
    {
     "ename": "NameError",
     "evalue": "name 'segment_scores' is not defined",
     "output_type": "error",
     "traceback": [
      "\u001b[0;31m---------------------------------------------------------------------------\u001b[0m",
      "\u001b[0;31mNameError\u001b[0m                                 Traceback (most recent call last)",
      "\u001b[0;32m<ipython-input-1-d26f99b1c93b>\u001b[0m in \u001b[0;36m<module>\u001b[0;34m\u001b[0m\n\u001b[0;32m----> 1\u001b[0;31m \u001b[0msegment_scores\u001b[0m\u001b[0;34m\u001b[0m\u001b[0;34m\u001b[0m\u001b[0m\n\u001b[0m",
      "\u001b[0;31mNameError\u001b[0m: name 'segment_scores' is not defined"
     ]
    }
   ],
   "source": [
    "segment_scores"
   ]
  },
  {
   "cell_type": "code",
   "execution_count": 48,
   "metadata": {},
   "outputs": [
    {
     "data": {
      "text/plain": [
       "array([], dtype=float64)"
      ]
     },
     "execution_count": 48,
     "metadata": {},
     "output_type": "execute_result"
    }
   ],
   "source": [
    "np.array(segment_scores)"
   ]
  },
  {
   "cell_type": "code",
   "execution_count": 9,
   "metadata": {},
   "outputs": [],
   "source": [
    "def get_classes_1001():\n",
    "    df = pd.read_csv('/data2/yt8m/3/frame/classes_1000.csv')\n",
    "    c = df['class'].values.tolist()\n",
    "    stoi = { c[i]: i for i in range(len(c)) }\n",
    "    return c, stoi\n",
    "classes, _ = get_classes_1001()"
   ]
  },
  {
   "cell_type": "code",
   "execution_count": 11,
   "metadata": {},
   "outputs": [
    {
     "data": {
      "text/plain": [
       "True"
      ]
     },
     "execution_count": 11,
     "metadata": {},
     "output_type": "execute_result"
    }
   ],
   "source": [
    "1510 in classes"
   ]
  },
  {
   "cell_type": "code",
   "execution_count": null,
   "metadata": {},
   "outputs": [],
   "source": []
  }
 ],
 "metadata": {
  "kernelspec": {
   "display_name": "Python 3",
   "language": "python",
   "name": "python3"
  },
  "language_info": {
   "codemirror_mode": {
    "name": "ipython",
    "version": 3
   },
   "file_extension": ".py",
   "mimetype": "text/x-python",
   "name": "python",
   "nbconvert_exporter": "python",
   "pygments_lexer": "ipython3",
   "version": "3.7.3"
  }
 },
 "nbformat": 4,
 "nbformat_minor": 2
}
